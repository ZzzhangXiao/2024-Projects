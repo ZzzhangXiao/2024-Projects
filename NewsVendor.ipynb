{
 "cells": [
  {
   "cell_type": "markdown",
   "metadata": {
    "id": "n769_rudmYax"
   },
   "source": [
    "# Group 09 Project Notebook\n",
    "# Members: Chan Keng Jit, Vikas Harlani, Toh Yi Zhi, Yap Zi Chen, Zhang Xiao"
   ]
  },
  {
   "cell_type": "markdown",
   "metadata": {
    "id": "4XUl0pchnNE2"
   },
   "source": [
    "## Import Statements"
   ]
  },
  {
   "cell_type": "markdown",
   "metadata": {
    "id": "_SdhYL4qKblv"
   },
   "source": [
    "Import relevant libraries for the project"
   ]
  },
  {
   "cell_type": "code",
   "execution_count": null,
   "metadata": {
    "colab": {
     "base_uri": "https://localhost:8080/"
    },
    "id": "gq26qq5M_gly",
    "outputId": "8e035282-1955-47e4-ea65-6c424c0cf3a9"
   },
   "outputs": [],
   "source": [
    "# CatBoost install\n",
    "!pip install catboost\n",
    "!pip install xgboost\n",
    "!pip install ipywidgets"
   ]
  },
  {
   "cell_type": "code",
   "execution_count": 2,
   "metadata": {
    "id": "TpeRuBj22rOp"
   },
   "outputs": [],
   "source": [
    "# Import Statements\n",
    "import numpy as np\n",
    "import scipy as sp\n",
    "import pandas as pd\n",
    "from pandas.plotting import scatter_matrix\n",
    "pd.options.mode.chained_assignment = None\n",
    "\n",
    "import sklearn\n",
    "from sklearn.preprocessing import PolynomialFeatures, OneHotEncoder, LabelEncoder, MinMaxScaler\n",
    "from sklearn.model_selection import train_test_split, KFold\n",
    "from sklearn.metrics import classification_report,roc_auc_score,confusion_matrix,accuracy_score,f1_score,roc_curve\n",
    "from sklearn.tree import DecisionTreeRegressor\n",
    "from sklearn.ensemble import RandomForestRegressor\n",
    "from sklearn.metrics import mean_squared_error as MSE\n",
    "from sklearn.svm import SVR\n",
    "from sklearn.model_selection import GridSearchCV\n",
    "from sklearn.pipeline import Pipeline\n",
    "import itertools\n",
    "\n",
    "from scipy import stats\n",
    "import scipy.stats as sct\n",
    "from scipy.stats import norm, expon, uniform\n",
    "from scipy.optimize import minimize\n",
    "import re\n",
    "from sklearn import svm\n",
    "import seaborn as sb\n",
    "\n",
    "# Imports for preprocessing\n",
    "import matplotlib.pyplot as plt\n",
    "import statsmodels.formula.api as smf\n",
    "from sklearn.decomposition import PCA\n",
    "\n",
    "from sklearn.preprocessing import StandardScaler\n",
    "# Imports for svr\n",
    "from sklearn import svm\n",
    "# Imports for linear regression\n",
    "from sklearn.linear_model import LinearRegression, Lasso, Ridge\n",
    "from sklearn.neighbors import KNeighborsRegressor\n",
    "# Imports for random forest\n",
    "from sklearn.ensemble import GradientBoostingRegressor, RandomForestRegressor\n",
    "\n",
    "# Imports for metrics\n",
    "from sklearn.metrics import mean_squared_error as MSE\n",
    "from sklearn.model_selection import KFold, cross_val_score\n",
    "\n",
    "pd.options.mode.chained_assignment = None\n",
    "np.random.seed(10)\n",
    "\n",
    "# Imports for catboostregressor\n",
    "from catboost import CatBoostRegressor\n",
    "import ipywidgets as ipw # not sure if this is used\n",
    "\n",
    "# Set random seed for reproducability\n",
    "np.random.seed(42)"
   ]
  },
  {
   "cell_type": "markdown",
   "metadata": {
    "id": "0iBrb8ycKi_r"
   },
   "source": [
    "## Load train and test datasets from CSV files"
   ]
  },
  {
   "cell_type": "code",
   "execution_count": 5,
   "metadata": {
    "id": "5UWR-mGSnISQ"
   },
   "outputs": [
    {
     "data": {
      "text/html": [
       "<div>\n",
       "<style scoped>\n",
       "    .dataframe tbody tr th:only-of-type {\n",
       "        vertical-align: middle;\n",
       "    }\n",
       "\n",
       "    .dataframe tbody tr th {\n",
       "        vertical-align: top;\n",
       "    }\n",
       "\n",
       "    .dataframe thead th {\n",
       "        text-align: right;\n",
       "    }\n",
       "</style>\n",
       "<table border=\"1\" class=\"dataframe\">\n",
       "  <thead>\n",
       "    <tr style=\"text-align: right;\">\n",
       "      <th></th>\n",
       "      <th>productID</th>\n",
       "      <th>brandID</th>\n",
       "      <th>attribute1</th>\n",
       "      <th>attribute2</th>\n",
       "      <th>attribute3</th>\n",
       "      <th>attribute4</th>\n",
       "      <th>clickVolume</th>\n",
       "      <th>avgOriginalUnitPrice</th>\n",
       "      <th>avgFinalUnitPrice</th>\n",
       "      <th>ma14SalesVolume</th>\n",
       "      <th>weekday</th>\n",
       "      <th>meanAge</th>\n",
       "      <th>gender</th>\n",
       "      <th>meanEducation</th>\n",
       "      <th>maritalStatus</th>\n",
       "      <th>plus</th>\n",
       "      <th>meanPurchasePower</th>\n",
       "      <th>meanUserLevel</th>\n",
       "      <th>meanCityLevel</th>\n",
       "      <th>sales</th>\n",
       "    </tr>\n",
       "  </thead>\n",
       "  <tbody>\n",
       "    <tr>\n",
       "      <th>0</th>\n",
       "      <td>68</td>\n",
       "      <td>28</td>\n",
       "      <td>3.0</td>\n",
       "      <td>100.0</td>\n",
       "      <td>9</td>\n",
       "      <td>1.561599</td>\n",
       "      <td>799.0</td>\n",
       "      <td>237.206500</td>\n",
       "      <td>186.956968</td>\n",
       "      <td>11.785714</td>\n",
       "      <td>4</td>\n",
       "      <td>35.498327</td>\n",
       "      <td>0.114401</td>\n",
       "      <td>3.046749</td>\n",
       "      <td>0.562923</td>\n",
       "      <td>0.206291</td>\n",
       "      <td>2.173474</td>\n",
       "      <td>3.628150</td>\n",
       "      <td>2.181482</td>\n",
       "      <td>14</td>\n",
       "    </tr>\n",
       "    <tr>\n",
       "      <th>1</th>\n",
       "      <td>31</td>\n",
       "      <td>6</td>\n",
       "      <td>3.0</td>\n",
       "      <td>100.0</td>\n",
       "      <td>2</td>\n",
       "      <td>7.747685</td>\n",
       "      <td>352.0</td>\n",
       "      <td>178.540538</td>\n",
       "      <td>129.123143</td>\n",
       "      <td>25.785714</td>\n",
       "      <td>7</td>\n",
       "      <td>25.633478</td>\n",
       "      <td>0.000000</td>\n",
       "      <td>3.005766</td>\n",
       "      <td>0.000000</td>\n",
       "      <td>0.444095</td>\n",
       "      <td>1.927769</td>\n",
       "      <td>3.058834</td>\n",
       "      <td>1.511026</td>\n",
       "      <td>2</td>\n",
       "    </tr>\n",
       "    <tr>\n",
       "      <th>2</th>\n",
       "      <td>27</td>\n",
       "      <td>19</td>\n",
       "      <td>3.0</td>\n",
       "      <td>60.0</td>\n",
       "      <td>2</td>\n",
       "      <td>3.899665</td>\n",
       "      <td>293.0</td>\n",
       "      <td>119.066221</td>\n",
       "      <td>59.136199</td>\n",
       "      <td>21.357143</td>\n",
       "      <td>6</td>\n",
       "      <td>32.228120</td>\n",
       "      <td>0.158911</td>\n",
       "      <td>2.935705</td>\n",
       "      <td>0.293093</td>\n",
       "      <td>0.132959</td>\n",
       "      <td>2.324772</td>\n",
       "      <td>2.650857</td>\n",
       "      <td>1.665037</td>\n",
       "      <td>16</td>\n",
       "    </tr>\n",
       "    <tr>\n",
       "      <th>3</th>\n",
       "      <td>52</td>\n",
       "      <td>4</td>\n",
       "      <td>3.0</td>\n",
       "      <td>80.0</td>\n",
       "      <td>1</td>\n",
       "      <td>1.585429</td>\n",
       "      <td>537.0</td>\n",
       "      <td>139.452545</td>\n",
       "      <td>68.572100</td>\n",
       "      <td>7.285714</td>\n",
       "      <td>5</td>\n",
       "      <td>29.304317</td>\n",
       "      <td>0.186522</td>\n",
       "      <td>2.810752</td>\n",
       "      <td>0.242181</td>\n",
       "      <td>0.000000</td>\n",
       "      <td>2.192938</td>\n",
       "      <td>2.026259</td>\n",
       "      <td>2.481082</td>\n",
       "      <td>13</td>\n",
       "    </tr>\n",
       "    <tr>\n",
       "      <th>4</th>\n",
       "      <td>3</td>\n",
       "      <td>28</td>\n",
       "      <td>3.0</td>\n",
       "      <td>100.0</td>\n",
       "      <td>14</td>\n",
       "      <td>4.623051</td>\n",
       "      <td>6668.0</td>\n",
       "      <td>298.106532</td>\n",
       "      <td>244.047761</td>\n",
       "      <td>296.214286</td>\n",
       "      <td>5</td>\n",
       "      <td>29.132081</td>\n",
       "      <td>0.300183</td>\n",
       "      <td>3.032527</td>\n",
       "      <td>0.391279</td>\n",
       "      <td>0.103062</td>\n",
       "      <td>2.135294</td>\n",
       "      <td>2.736957</td>\n",
       "      <td>1.979200</td>\n",
       "      <td>159</td>\n",
       "    </tr>\n",
       "  </tbody>\n",
       "</table>\n",
       "</div>"
      ],
      "text/plain": [
       "   productID  brandID  attribute1  attribute2  attribute3  attribute4  \\\n",
       "0         68       28         3.0       100.0           9    1.561599   \n",
       "1         31        6         3.0       100.0           2    7.747685   \n",
       "2         27       19         3.0        60.0           2    3.899665   \n",
       "3         52        4         3.0        80.0           1    1.585429   \n",
       "4          3       28         3.0       100.0          14    4.623051   \n",
       "\n",
       "   clickVolume  avgOriginalUnitPrice  avgFinalUnitPrice  ma14SalesVolume  \\\n",
       "0        799.0            237.206500         186.956968        11.785714   \n",
       "1        352.0            178.540538         129.123143        25.785714   \n",
       "2        293.0            119.066221          59.136199        21.357143   \n",
       "3        537.0            139.452545          68.572100         7.285714   \n",
       "4       6668.0            298.106532         244.047761       296.214286   \n",
       "\n",
       "   weekday    meanAge    gender  meanEducation  maritalStatus      plus  \\\n",
       "0        4  35.498327  0.114401       3.046749       0.562923  0.206291   \n",
       "1        7  25.633478  0.000000       3.005766       0.000000  0.444095   \n",
       "2        6  32.228120  0.158911       2.935705       0.293093  0.132959   \n",
       "3        5  29.304317  0.186522       2.810752       0.242181  0.000000   \n",
       "4        5  29.132081  0.300183       3.032527       0.391279  0.103062   \n",
       "\n",
       "   meanPurchasePower  meanUserLevel  meanCityLevel  sales  \n",
       "0           2.173474       3.628150       2.181482     14  \n",
       "1           1.927769       3.058834       1.511026      2  \n",
       "2           2.324772       2.650857       1.665037     16  \n",
       "3           2.192938       2.026259       2.481082     13  \n",
       "4           2.135294       2.736957       1.979200    159  "
      ]
     },
     "execution_count": 5,
     "metadata": {},
     "output_type": "execute_result"
    }
   ],
   "source": [
    "Data_train = pd.read_csv('Data-train.csv', index_col=0)\n",
    "Data_train.head()"
   ]
  },
  {
   "cell_type": "code",
   "execution_count": 6,
   "metadata": {
    "id": "FNmN2Fj1nSm8"
   },
   "outputs": [
    {
     "data": {
      "text/html": [
       "<div>\n",
       "<style scoped>\n",
       "    .dataframe tbody tr th:only-of-type {\n",
       "        vertical-align: middle;\n",
       "    }\n",
       "\n",
       "    .dataframe tbody tr th {\n",
       "        vertical-align: top;\n",
       "    }\n",
       "\n",
       "    .dataframe thead th {\n",
       "        text-align: right;\n",
       "    }\n",
       "</style>\n",
       "<table border=\"1\" class=\"dataframe\">\n",
       "  <thead>\n",
       "    <tr style=\"text-align: right;\">\n",
       "      <th></th>\n",
       "      <th>productID</th>\n",
       "      <th>brandID</th>\n",
       "      <th>attribute1</th>\n",
       "      <th>attribute2</th>\n",
       "      <th>attribute3</th>\n",
       "      <th>attribute4</th>\n",
       "      <th>clickVolume</th>\n",
       "      <th>avgOriginalUnitPrice</th>\n",
       "      <th>avgFinalUnitPrice</th>\n",
       "      <th>ma14SalesVolume</th>\n",
       "      <th>weekday</th>\n",
       "      <th>meanAge</th>\n",
       "      <th>gender</th>\n",
       "      <th>meanEducation</th>\n",
       "      <th>maritalStatus</th>\n",
       "      <th>plus</th>\n",
       "      <th>meanPurchasePower</th>\n",
       "      <th>meanUserLevel</th>\n",
       "      <th>meanCityLevel</th>\n",
       "    </tr>\n",
       "  </thead>\n",
       "  <tbody>\n",
       "    <tr>\n",
       "      <th>0</th>\n",
       "      <td>77</td>\n",
       "      <td>38</td>\n",
       "      <td>3.0</td>\n",
       "      <td>100.0</td>\n",
       "      <td>2</td>\n",
       "      <td>5.670374</td>\n",
       "      <td>173.0</td>\n",
       "      <td>180.835683</td>\n",
       "      <td>165.459988</td>\n",
       "      <td>12.857143</td>\n",
       "      <td>4</td>\n",
       "      <td>26.960521</td>\n",
       "      <td>0.053158</td>\n",
       "      <td>2.958528</td>\n",
       "      <td>0.668194</td>\n",
       "      <td>0.148227</td>\n",
       "      <td>2.347953</td>\n",
       "      <td>2.638135</td>\n",
       "      <td>1.997034</td>\n",
       "    </tr>\n",
       "    <tr>\n",
       "      <th>1</th>\n",
       "      <td>47</td>\n",
       "      <td>30</td>\n",
       "      <td>4.0</td>\n",
       "      <td>100.0</td>\n",
       "      <td>9</td>\n",
       "      <td>5.191429</td>\n",
       "      <td>142.0</td>\n",
       "      <td>190.802856</td>\n",
       "      <td>138.995392</td>\n",
       "      <td>2.285714</td>\n",
       "      <td>5</td>\n",
       "      <td>33.111475</td>\n",
       "      <td>0.317086</td>\n",
       "      <td>3.292282</td>\n",
       "      <td>0.709143</td>\n",
       "      <td>0.272464</td>\n",
       "      <td>2.409795</td>\n",
       "      <td>3.973464</td>\n",
       "      <td>1.385002</td>\n",
       "    </tr>\n",
       "    <tr>\n",
       "      <th>2</th>\n",
       "      <td>33</td>\n",
       "      <td>25</td>\n",
       "      <td>3.0</td>\n",
       "      <td>100.0</td>\n",
       "      <td>1</td>\n",
       "      <td>2.461109</td>\n",
       "      <td>144.0</td>\n",
       "      <td>127.385574</td>\n",
       "      <td>123.286542</td>\n",
       "      <td>4.500000</td>\n",
       "      <td>6</td>\n",
       "      <td>30.353550</td>\n",
       "      <td>0.000000</td>\n",
       "      <td>2.668048</td>\n",
       "      <td>1.002511</td>\n",
       "      <td>0.000000</td>\n",
       "      <td>1.955541</td>\n",
       "      <td>2.937542</td>\n",
       "      <td>2.369596</td>\n",
       "    </tr>\n",
       "    <tr>\n",
       "      <th>3</th>\n",
       "      <td>68</td>\n",
       "      <td>28</td>\n",
       "      <td>3.0</td>\n",
       "      <td>100.0</td>\n",
       "      <td>2</td>\n",
       "      <td>4.659192</td>\n",
       "      <td>220.0</td>\n",
       "      <td>240.873276</td>\n",
       "      <td>168.258175</td>\n",
       "      <td>17.500000</td>\n",
       "      <td>6</td>\n",
       "      <td>29.692379</td>\n",
       "      <td>0.000000</td>\n",
       "      <td>2.470400</td>\n",
       "      <td>0.424764</td>\n",
       "      <td>0.000000</td>\n",
       "      <td>1.932938</td>\n",
       "      <td>2.480643</td>\n",
       "      <td>2.505191</td>\n",
       "    </tr>\n",
       "    <tr>\n",
       "      <th>4</th>\n",
       "      <td>65</td>\n",
       "      <td>16</td>\n",
       "      <td>3.0</td>\n",
       "      <td>90.0</td>\n",
       "      <td>2</td>\n",
       "      <td>15.554293</td>\n",
       "      <td>4079.0</td>\n",
       "      <td>85.013188</td>\n",
       "      <td>68.521885</td>\n",
       "      <td>115.785714</td>\n",
       "      <td>7</td>\n",
       "      <td>33.128355</td>\n",
       "      <td>0.201974</td>\n",
       "      <td>2.432218</td>\n",
       "      <td>0.592206</td>\n",
       "      <td>0.005535</td>\n",
       "      <td>2.428117</td>\n",
       "      <td>1.792081</td>\n",
       "      <td>2.669685</td>\n",
       "    </tr>\n",
       "  </tbody>\n",
       "</table>\n",
       "</div>"
      ],
      "text/plain": [
       "   productID  brandID  attribute1  attribute2  attribute3  attribute4  \\\n",
       "0         77       38         3.0       100.0           2    5.670374   \n",
       "1         47       30         4.0       100.0           9    5.191429   \n",
       "2         33       25         3.0       100.0           1    2.461109   \n",
       "3         68       28         3.0       100.0           2    4.659192   \n",
       "4         65       16         3.0        90.0           2   15.554293   \n",
       "\n",
       "   clickVolume  avgOriginalUnitPrice  avgFinalUnitPrice  ma14SalesVolume  \\\n",
       "0        173.0            180.835683         165.459988        12.857143   \n",
       "1        142.0            190.802856         138.995392         2.285714   \n",
       "2        144.0            127.385574         123.286542         4.500000   \n",
       "3        220.0            240.873276         168.258175        17.500000   \n",
       "4       4079.0             85.013188          68.521885       115.785714   \n",
       "\n",
       "   weekday    meanAge    gender  meanEducation  maritalStatus      plus  \\\n",
       "0        4  26.960521  0.053158       2.958528       0.668194  0.148227   \n",
       "1        5  33.111475  0.317086       3.292282       0.709143  0.272464   \n",
       "2        6  30.353550  0.000000       2.668048       1.002511  0.000000   \n",
       "3        6  29.692379  0.000000       2.470400       0.424764  0.000000   \n",
       "4        7  33.128355  0.201974       2.432218       0.592206  0.005535   \n",
       "\n",
       "   meanPurchasePower  meanUserLevel  meanCityLevel  \n",
       "0           2.347953       2.638135       1.997034  \n",
       "1           2.409795       3.973464       1.385002  \n",
       "2           1.955541       2.937542       2.369596  \n",
       "3           1.932938       2.480643       2.505191  \n",
       "4           2.428117       1.792081       2.669685  "
      ]
     },
     "execution_count": 6,
     "metadata": {},
     "output_type": "execute_result"
    }
   ],
   "source": [
    "Data_test = pd.read_csv('Data-test.csv', index_col=0)\n",
    "Data_test.head()"
   ]
  },
  {
   "cell_type": "markdown",
   "metadata": {
    "id": "mlriyrv--6xt"
   },
   "source": [
    "## Data Exploration\n"
   ]
  },
  {
   "cell_type": "markdown",
   "metadata": {
    "id": "anTJcZmXKsaL"
   },
   "source": [
    "Data Exploration, and Feature Visualization is done to better understand the features and to come up with ideas for effective feature representation. Data cleaning is also done."
   ]
  },
  {
   "cell_type": "markdown",
   "metadata": {
    "id": "oNUmoxLUL2ZD"
   },
   "source": [
    "### Dropping of rows with missing data"
   ]
  },
  {
   "cell_type": "code",
   "execution_count": null,
   "metadata": {
    "colab": {
     "base_uri": "https://localhost:8080/"
    },
    "id": "sTt2j1tW_J2j",
    "outputId": "db9c6b71-ba24-4a03-8c4b-cefc49663845"
   },
   "outputs": [],
   "source": [
    "print('shape of Data_train: ', Data_train.shape)\n",
    "print('shape of Data_test:', Data_test.shape)"
   ]
  },
  {
   "cell_type": "code",
   "execution_count": 6,
   "metadata": {
    "colab": {
     "base_uri": "https://localhost:8080/",
     "height": 444
    },
    "id": "yM8bnJ7I_Tua",
    "outputId": "16ea7127-808b-4a1e-ed6d-62aa544c000b"
   },
   "outputs": [
    {
     "data": {
      "text/html": [
       "<div>\n",
       "<style scoped>\n",
       "    .dataframe tbody tr th:only-of-type {\n",
       "        vertical-align: middle;\n",
       "    }\n",
       "\n",
       "    .dataframe tbody tr th {\n",
       "        vertical-align: top;\n",
       "    }\n",
       "\n",
       "    .dataframe thead th {\n",
       "        text-align: right;\n",
       "    }\n",
       "</style>\n",
       "<table border=\"1\" class=\"dataframe\">\n",
       "  <thead>\n",
       "    <tr style=\"text-align: right;\">\n",
       "      <th></th>\n",
       "      <th>productID</th>\n",
       "      <th>brandID</th>\n",
       "      <th>attribute1</th>\n",
       "      <th>attribute2</th>\n",
       "      <th>attribute3</th>\n",
       "      <th>attribute4</th>\n",
       "      <th>clickVolume</th>\n",
       "      <th>avgOriginalUnitPrice</th>\n",
       "      <th>avgFinalUnitPrice</th>\n",
       "      <th>ma14SalesVolume</th>\n",
       "      <th>weekday</th>\n",
       "      <th>meanAge</th>\n",
       "      <th>gender</th>\n",
       "      <th>meanEducation</th>\n",
       "      <th>maritalStatus</th>\n",
       "      <th>plus</th>\n",
       "      <th>meanPurchasePower</th>\n",
       "      <th>meanUserLevel</th>\n",
       "      <th>meanCityLevel</th>\n",
       "    </tr>\n",
       "  </thead>\n",
       "  <tbody>\n",
       "    <tr>\n",
       "      <th>0</th>\n",
       "      <td>77</td>\n",
       "      <td>38</td>\n",
       "      <td>3.0</td>\n",
       "      <td>100.0</td>\n",
       "      <td>2</td>\n",
       "      <td>5.670374</td>\n",
       "      <td>173.0</td>\n",
       "      <td>180.835683</td>\n",
       "      <td>165.459988</td>\n",
       "      <td>12.857143</td>\n",
       "      <td>4</td>\n",
       "      <td>26.960521</td>\n",
       "      <td>0.053158</td>\n",
       "      <td>2.958528</td>\n",
       "      <td>0.668194</td>\n",
       "      <td>0.148227</td>\n",
       "      <td>2.347953</td>\n",
       "      <td>2.638135</td>\n",
       "      <td>1.997034</td>\n",
       "    </tr>\n",
       "    <tr>\n",
       "      <th>1</th>\n",
       "      <td>47</td>\n",
       "      <td>30</td>\n",
       "      <td>4.0</td>\n",
       "      <td>100.0</td>\n",
       "      <td>9</td>\n",
       "      <td>5.191429</td>\n",
       "      <td>142.0</td>\n",
       "      <td>190.802856</td>\n",
       "      <td>138.995392</td>\n",
       "      <td>2.285714</td>\n",
       "      <td>5</td>\n",
       "      <td>33.111475</td>\n",
       "      <td>0.317086</td>\n",
       "      <td>3.292282</td>\n",
       "      <td>0.709143</td>\n",
       "      <td>0.272464</td>\n",
       "      <td>2.409795</td>\n",
       "      <td>3.973464</td>\n",
       "      <td>1.385002</td>\n",
       "    </tr>\n",
       "    <tr>\n",
       "      <th>2</th>\n",
       "      <td>33</td>\n",
       "      <td>25</td>\n",
       "      <td>3.0</td>\n",
       "      <td>100.0</td>\n",
       "      <td>1</td>\n",
       "      <td>2.461109</td>\n",
       "      <td>144.0</td>\n",
       "      <td>127.385574</td>\n",
       "      <td>123.286542</td>\n",
       "      <td>4.500000</td>\n",
       "      <td>6</td>\n",
       "      <td>30.353550</td>\n",
       "      <td>0.000000</td>\n",
       "      <td>2.668048</td>\n",
       "      <td>1.002511</td>\n",
       "      <td>0.000000</td>\n",
       "      <td>1.955541</td>\n",
       "      <td>2.937542</td>\n",
       "      <td>2.369596</td>\n",
       "    </tr>\n",
       "    <tr>\n",
       "      <th>3</th>\n",
       "      <td>68</td>\n",
       "      <td>28</td>\n",
       "      <td>3.0</td>\n",
       "      <td>100.0</td>\n",
       "      <td>2</td>\n",
       "      <td>4.659192</td>\n",
       "      <td>220.0</td>\n",
       "      <td>240.873276</td>\n",
       "      <td>168.258175</td>\n",
       "      <td>17.500000</td>\n",
       "      <td>6</td>\n",
       "      <td>29.692379</td>\n",
       "      <td>0.000000</td>\n",
       "      <td>2.470400</td>\n",
       "      <td>0.424764</td>\n",
       "      <td>0.000000</td>\n",
       "      <td>1.932938</td>\n",
       "      <td>2.480643</td>\n",
       "      <td>2.505191</td>\n",
       "    </tr>\n",
       "    <tr>\n",
       "      <th>4</th>\n",
       "      <td>65</td>\n",
       "      <td>16</td>\n",
       "      <td>3.0</td>\n",
       "      <td>90.0</td>\n",
       "      <td>2</td>\n",
       "      <td>15.554293</td>\n",
       "      <td>4079.0</td>\n",
       "      <td>85.013188</td>\n",
       "      <td>68.521885</td>\n",
       "      <td>115.785714</td>\n",
       "      <td>7</td>\n",
       "      <td>33.128355</td>\n",
       "      <td>0.201974</td>\n",
       "      <td>2.432218</td>\n",
       "      <td>0.592206</td>\n",
       "      <td>0.005535</td>\n",
       "      <td>2.428117</td>\n",
       "      <td>1.792081</td>\n",
       "      <td>2.669685</td>\n",
       "    </tr>\n",
       "    <tr>\n",
       "      <th>...</th>\n",
       "      <td>...</td>\n",
       "      <td>...</td>\n",
       "      <td>...</td>\n",
       "      <td>...</td>\n",
       "      <td>...</td>\n",
       "      <td>...</td>\n",
       "      <td>...</td>\n",
       "      <td>...</td>\n",
       "      <td>...</td>\n",
       "      <td>...</td>\n",
       "      <td>...</td>\n",
       "      <td>...</td>\n",
       "      <td>...</td>\n",
       "      <td>...</td>\n",
       "      <td>...</td>\n",
       "      <td>...</td>\n",
       "      <td>...</td>\n",
       "      <td>...</td>\n",
       "      <td>...</td>\n",
       "    </tr>\n",
       "    <tr>\n",
       "      <th>1046</th>\n",
       "      <td>17</td>\n",
       "      <td>29</td>\n",
       "      <td>2.0</td>\n",
       "      <td>50.0</td>\n",
       "      <td>1</td>\n",
       "      <td>7.783232</td>\n",
       "      <td>212.0</td>\n",
       "      <td>70.289424</td>\n",
       "      <td>58.684552</td>\n",
       "      <td>5.357143</td>\n",
       "      <td>6</td>\n",
       "      <td>26.794008</td>\n",
       "      <td>0.558049</td>\n",
       "      <td>2.629016</td>\n",
       "      <td>0.193424</td>\n",
       "      <td>0.332677</td>\n",
       "      <td>2.640429</td>\n",
       "      <td>1.722599</td>\n",
       "      <td>1.758180</td>\n",
       "    </tr>\n",
       "    <tr>\n",
       "      <th>1047</th>\n",
       "      <td>66</td>\n",
       "      <td>20</td>\n",
       "      <td>4.0</td>\n",
       "      <td>100.0</td>\n",
       "      <td>6</td>\n",
       "      <td>17.327509</td>\n",
       "      <td>1044.0</td>\n",
       "      <td>210.529395</td>\n",
       "      <td>174.739314</td>\n",
       "      <td>10.071429</td>\n",
       "      <td>5</td>\n",
       "      <td>34.052881</td>\n",
       "      <td>0.164406</td>\n",
       "      <td>3.094639</td>\n",
       "      <td>0.510198</td>\n",
       "      <td>0.274645</td>\n",
       "      <td>2.209462</td>\n",
       "      <td>2.788644</td>\n",
       "      <td>2.101402</td>\n",
       "    </tr>\n",
       "    <tr>\n",
       "      <th>1048</th>\n",
       "      <td>68</td>\n",
       "      <td>28</td>\n",
       "      <td>3.0</td>\n",
       "      <td>100.0</td>\n",
       "      <td>2</td>\n",
       "      <td>1.200506</td>\n",
       "      <td>1040.0</td>\n",
       "      <td>235.563711</td>\n",
       "      <td>190.538695</td>\n",
       "      <td>3.571429</td>\n",
       "      <td>5</td>\n",
       "      <td>38.025742</td>\n",
       "      <td>0.371263</td>\n",
       "      <td>3.073274</td>\n",
       "      <td>0.813218</td>\n",
       "      <td>0.422813</td>\n",
       "      <td>2.088130</td>\n",
       "      <td>3.622261</td>\n",
       "      <td>1.577160</td>\n",
       "    </tr>\n",
       "    <tr>\n",
       "      <th>1049</th>\n",
       "      <td>68</td>\n",
       "      <td>28</td>\n",
       "      <td>3.0</td>\n",
       "      <td>100.0</td>\n",
       "      <td>2</td>\n",
       "      <td>1.076817</td>\n",
       "      <td>324.0</td>\n",
       "      <td>239.301695</td>\n",
       "      <td>192.178675</td>\n",
       "      <td>6.428571</td>\n",
       "      <td>2</td>\n",
       "      <td>35.851558</td>\n",
       "      <td>0.519561</td>\n",
       "      <td>2.967437</td>\n",
       "      <td>0.739173</td>\n",
       "      <td>0.320380</td>\n",
       "      <td>1.982423</td>\n",
       "      <td>2.999338</td>\n",
       "      <td>1.278792</td>\n",
       "    </tr>\n",
       "    <tr>\n",
       "      <th>1050</th>\n",
       "      <td>69</td>\n",
       "      <td>29</td>\n",
       "      <td>3.0</td>\n",
       "      <td>60.0</td>\n",
       "      <td>8</td>\n",
       "      <td>3.762127</td>\n",
       "      <td>598.0</td>\n",
       "      <td>80.759945</td>\n",
       "      <td>46.251621</td>\n",
       "      <td>45.214286</td>\n",
       "      <td>7</td>\n",
       "      <td>30.869948</td>\n",
       "      <td>0.335370</td>\n",
       "      <td>2.859076</td>\n",
       "      <td>0.764288</td>\n",
       "      <td>0.223586</td>\n",
       "      <td>2.287194</td>\n",
       "      <td>2.672698</td>\n",
       "      <td>3.007187</td>\n",
       "    </tr>\n",
       "  </tbody>\n",
       "</table>\n",
       "<p>1051 rows × 19 columns</p>\n",
       "</div>"
      ],
      "text/plain": [
       "      productID  brandID  attribute1  attribute2  attribute3  attribute4  \\\n",
       "0            77       38         3.0       100.0           2    5.670374   \n",
       "1            47       30         4.0       100.0           9    5.191429   \n",
       "2            33       25         3.0       100.0           1    2.461109   \n",
       "3            68       28         3.0       100.0           2    4.659192   \n",
       "4            65       16         3.0        90.0           2   15.554293   \n",
       "...         ...      ...         ...         ...         ...         ...   \n",
       "1046         17       29         2.0        50.0           1    7.783232   \n",
       "1047         66       20         4.0       100.0           6   17.327509   \n",
       "1048         68       28         3.0       100.0           2    1.200506   \n",
       "1049         68       28         3.0       100.0           2    1.076817   \n",
       "1050         69       29         3.0        60.0           8    3.762127   \n",
       "\n",
       "      clickVolume  avgOriginalUnitPrice  avgFinalUnitPrice  ma14SalesVolume  \\\n",
       "0           173.0            180.835683         165.459988        12.857143   \n",
       "1           142.0            190.802856         138.995392         2.285714   \n",
       "2           144.0            127.385574         123.286542         4.500000   \n",
       "3           220.0            240.873276         168.258175        17.500000   \n",
       "4          4079.0             85.013188          68.521885       115.785714   \n",
       "...           ...                   ...                ...              ...   \n",
       "1046        212.0             70.289424          58.684552         5.357143   \n",
       "1047       1044.0            210.529395         174.739314        10.071429   \n",
       "1048       1040.0            235.563711         190.538695         3.571429   \n",
       "1049        324.0            239.301695         192.178675         6.428571   \n",
       "1050        598.0             80.759945          46.251621        45.214286   \n",
       "\n",
       "      weekday    meanAge    gender  meanEducation  maritalStatus      plus  \\\n",
       "0           4  26.960521  0.053158       2.958528       0.668194  0.148227   \n",
       "1           5  33.111475  0.317086       3.292282       0.709143  0.272464   \n",
       "2           6  30.353550  0.000000       2.668048       1.002511  0.000000   \n",
       "3           6  29.692379  0.000000       2.470400       0.424764  0.000000   \n",
       "4           7  33.128355  0.201974       2.432218       0.592206  0.005535   \n",
       "...       ...        ...       ...            ...            ...       ...   \n",
       "1046        6  26.794008  0.558049       2.629016       0.193424  0.332677   \n",
       "1047        5  34.052881  0.164406       3.094639       0.510198  0.274645   \n",
       "1048        5  38.025742  0.371263       3.073274       0.813218  0.422813   \n",
       "1049        2  35.851558  0.519561       2.967437       0.739173  0.320380   \n",
       "1050        7  30.869948  0.335370       2.859076       0.764288  0.223586   \n",
       "\n",
       "      meanPurchasePower  meanUserLevel  meanCityLevel  \n",
       "0              2.347953       2.638135       1.997034  \n",
       "1              2.409795       3.973464       1.385002  \n",
       "2              1.955541       2.937542       2.369596  \n",
       "3              1.932938       2.480643       2.505191  \n",
       "4              2.428117       1.792081       2.669685  \n",
       "...                 ...            ...            ...  \n",
       "1046           2.640429       1.722599       1.758180  \n",
       "1047           2.209462       2.788644       2.101402  \n",
       "1048           2.088130       3.622261       1.577160  \n",
       "1049           1.982423       2.999338       1.278792  \n",
       "1050           2.287194       2.672698       3.007187  \n",
       "\n",
       "[1051 rows x 19 columns]"
      ]
     },
     "execution_count": 6,
     "metadata": {},
     "output_type": "execute_result"
    }
   ],
   "source": [
    "# Drop any rows that have missing data in any columns\n",
    "\n",
    "Data_train.dropna()\n",
    "Data_test.dropna()"
   ]
  },
  {
   "cell_type": "code",
   "execution_count": null,
   "metadata": {
    "colab": {
     "base_uri": "https://localhost:8080/"
    },
    "id": "zFiLgj-T_V8P",
    "outputId": "aa0d83bf-a780-4b55-d96e-410d5f9118e5"
   },
   "outputs": [],
   "source": [
    "print('shape of Data_train: ', Data_train.shape)\n",
    "print('shape of Data_test:', Data_test.shape)"
   ]
  },
  {
   "cell_type": "markdown",
   "metadata": {
    "id": "_5Y5LhW3MTwc"
   },
   "source": [
    "Since the shape is the same before and after the .dropna() command, there are no rows with missing data."
   ]
  },
  {
   "cell_type": "markdown",
   "metadata": {
    "id": "YXYudevZDy6X"
   },
   "source": [
    "### Ordinary Least Squares Regression"
   ]
  },
  {
   "cell_type": "markdown",
   "metadata": {
    "id": "Yj6O5k79CwUS"
   },
   "source": [
    "We did an ordinary least squares regression model initially on the raw train dataset in order to explore the dataset."
   ]
  },
  {
   "cell_type": "code",
   "execution_count": 8,
   "metadata": {
    "id": "FqGGlavbD7Wd"
   },
   "outputs": [],
   "source": [
    "def get_smf_str(y_str, x_list, x_list_remove = []):\n",
    "    x_str = ''\n",
    "    for i in range(len(x_list)):\n",
    "        if x_list[i] in x_list_remove:\n",
    "            continue\n",
    "        x_str += x_list[i]\n",
    "        if i != len(x_list) - 1:\n",
    "            x_str += ' + '\n",
    "    smf_str = ''\n",
    "    smf_str += y_str\n",
    "    smf_str += ' ~ '\n",
    "    smf_str += x_str\n",
    "    return smf_str\n",
    "y_str = Data_train.columns[-1]\n",
    "x_list = Data_train.columns[:-1]"
   ]
  },
  {
   "cell_type": "code",
   "execution_count": null,
   "metadata": {
    "colab": {
     "base_uri": "https://localhost:8080/"
    },
    "id": "q26MfVjyEDMz",
    "outputId": "bb4661a1-66ae-49e6-ceaf-5c3c793616df"
   },
   "outputs": [],
   "source": [
    "results = smf.ols(get_smf_str(y_str, x_list), data=Data_train).fit()\n",
    "print(results.summary())"
   ]
  },
  {
   "cell_type": "code",
   "execution_count": null,
   "metadata": {
    "colab": {
     "base_uri": "https://localhost:8080/"
    },
    "id": "9kdO42iHEFo7",
    "outputId": "e64398c4-231d-4892-d2fd-17714f76287d"
   },
   "outputs": [],
   "source": [
    "results.pvalues"
   ]
  },
  {
   "cell_type": "code",
   "execution_count": null,
   "metadata": {
    "colab": {
     "base_uri": "https://localhost:8080/"
    },
    "id": "pThhhmmJ_F9V",
    "outputId": "654baacc-f0a7-4751-b483-be709c6eae33"
   },
   "outputs": [],
   "source": [
    "Data_train.dtypes"
   ]
  },
  {
   "cell_type": "markdown",
   "metadata": {
    "id": "633YRFTQC7Wo"
   },
   "source": [
    "The P-values of all the predictors are obtained as follows, with clickVolume observed to have an extremely low P-value as compared to the other predictor variables."
   ]
  },
  {
   "cell_type": "markdown",
   "metadata": {
    "id": "wxg4EHZj_qyn"
   },
   "source": [
    "### Exploring the number of unique values in each feature"
   ]
  },
  {
   "cell_type": "markdown",
   "metadata": {
    "id": "SzOjPMbSNj-0"
   },
   "source": [
    "In order to determine which features are likely categorical, we explored the number of unique values in each feature. The features which only have a few unique values are thought to be categorical."
   ]
  },
  {
   "cell_type": "code",
   "execution_count": null,
   "metadata": {
    "colab": {
     "base_uri": "https://localhost:8080/"
    },
    "id": "pK9235d-_r0w",
    "outputId": "c03445fd-46d0-4a47-8652-1698f7951865"
   },
   "outputs": [],
   "source": [
    "Data_train.nunique()"
   ]
  },
  {
   "cell_type": "code",
   "execution_count": null,
   "metadata": {
    "colab": {
     "base_uri": "https://localhost:8080/"
    },
    "id": "xXnwWDN4_uHo",
    "outputId": "ab217634-0c7b-457b-a716-9a3ed0b5db9e"
   },
   "outputs": [],
   "source": [
    "Data_test.nunique()"
   ]
  },
  {
   "cell_type": "markdown",
   "metadata": {
    "id": "CsKPiqUQ_w1E"
   },
   "source": [
    "Findings:\n",
    "\n",
    "attribute1 has only 4 unique values in both the training and test dataset -> likely to be categorical.\n",
    "\n",
    "attribute2 has only 7 unique values in both the training and test dataset -> likely to be categorical.\n",
    "\n",
    "attribute 3 has 26 unique values in the training dataset and 24 unique values in the test dataset -> likely to be categorical.\n",
    "\n",
    "weekday has only 7 unique values (and specifies the day of the week) -> categorical.\n",
    "\n",
    "productID and brandID are categorical features as well."
   ]
  },
  {
   "cell_type": "markdown",
   "metadata": {
    "id": "M3FFnFlcGtix"
   },
   "source": [
    "### Correlation Matrix"
   ]
  },
  {
   "cell_type": "markdown",
   "metadata": {
    "id": "aK6lO3B2OmTr"
   },
   "source": [
    "A correlation heatmap is plotted for the training dataset, using all the features. This is to determine which features have higher correlation."
   ]
  },
  {
   "cell_type": "code",
   "execution_count": null,
   "metadata": {
    "colab": {
     "base_uri": "https://localhost:8080/",
     "height": 840
    },
    "id": "ESN3wrhaG3jV",
    "outputId": "5113d2d9-0c70-4b99-ca8c-790ffe836809"
   },
   "outputs": [],
   "source": [
    "import seaborn as sns\n",
    "import matplotlib.pyplot as plt\n",
    "plt.figure(figsize = (16, 8))\n",
    "df = pd.DataFrame(Data_train)\n",
    "corr = df.corr()\n",
    "heatmap = sns.heatmap(df.corr(), vmin=-1, vmax=1, annot=True)\n",
    "heatmap.set_title('Correlation Heatmap Matrix', fontdict={'fontsize':12}, pad=14);"
   ]
  },
  {
   "cell_type": "markdown",
   "metadata": {
    "id": "OeYdrYLSIHpz"
   },
   "source": [
    "The correlation heatmap matrix shows that ‘avgFinalUnitPrice’ has a strong correlation with ‘avgOriginalUnitPrice’ at 0.93. Furthermore, there is a high correlation between ‘clickVolume’ and ‘sales’ at 0.90, as well as ‘attribute1’ and ‘attribute2’, at 0.55.\n",
    "\n",
    "For such attributes, they would be retained in order for us to get a general comprehensive overview of the model performance with all the features included.\n"
   ]
  },
  {
   "cell_type": "markdown",
   "metadata": {
    "id": "8sX9WSLKC7uE"
   },
   "source": [
    "### Scatter Plot"
   ]
  },
  {
   "cell_type": "markdown",
   "metadata": {
    "id": "VHNEcq_2O5W0"
   },
   "source": [
    "A scatter plot of the training dataset is plotted to visualize the different features."
   ]
  },
  {
   "cell_type": "code",
   "execution_count": null,
   "metadata": {
    "colab": {
     "base_uri": "https://localhost:8080/",
     "height": 1000
    },
    "id": "twRgCvdyC4sE",
    "outputId": "9728d188-de4f-452b-8271-83108bf0b8bc"
   },
   "outputs": [],
   "source": [
    "scatter_matrix(Data_train, figsize = (20,20))"
   ]
  },
  {
   "cell_type": "markdown",
   "metadata": {
    "id": "tN3UDd6d_0nS"
   },
   "source": [
    "## Data Pre-Processing"
   ]
  },
  {
   "cell_type": "markdown",
   "metadata": {
    "id": "EoSWRrdNQbUW"
   },
   "source": [
    "Using insights from the data exploration, we performed data pre-processing before training and evaluating different models. We obtained two seperate processed datasets, one in which we perform one-hot encoding to the (supposed) categorical features and one in which we don't. This is to allow us to evaluate the performance of the models with both approaches.\n",
    "\n",
    "Let the one-hot encoding dataset be called OHE and the non encoded dataset be called Stan."
   ]
  },
  {
   "cell_type": "code",
   "execution_count": 7,
   "metadata": {
    "id": "t9U5G0TpSUNm"
   },
   "outputs": [],
   "source": [
    "# Extract X_train, y_train and X_test dataframes from training and test dataset\n",
    "\n",
    "X_train = Data_train.drop('sales', axis = 1)\n",
    "y_train = Data_train.sales\n",
    "\n",
    "X_test = Data_test"
   ]
  },
  {
   "cell_type": "markdown",
   "metadata": {
    "id": "rYUjOyImShW6"
   },
   "source": [
    "### Stan Dataset"
   ]
  },
  {
   "cell_type": "markdown",
   "metadata": {
    "id": "mQtg4hnrSj0K"
   },
   "source": [
    "In the Stan processed dataset, we standardise the features so that the standard deviation of each feature is now one. However, we do not perform encoding for the categorical variables. The StandardScaler library is used and is fit onto only X_train, but used to transform both X_train and X_test."
   ]
  },
  {
   "cell_type": "code",
   "execution_count": null,
   "metadata": {
    "colab": {
     "base_uri": "https://localhost:8080/"
    },
    "id": "npb0UQG_S-kH",
    "outputId": "c27ed5ac-8806-4f32-be81-2fb179fc8e54"
   },
   "outputs": [],
   "source": [
    "ss=StandardScaler(with_mean=False)\n",
    "\n",
    "ss.fit(X_train)\n",
    "\n",
    "Stan_X_train = ss.transform(X_train)\n",
    "Stan_y_train = Data_train.sales\n",
    "Stan_X_test = ss.transform(X_test)\n",
    "\n",
    "Stan_X_train_df = pd.DataFrame(Stan_X_train, columns=X_train.columns)  # Assuming X_train is a DataFrame\n",
    "Stan_y_train_df = pd.DataFrame(Stan_y_train, columns=['sales'])\n",
    "Stan_X_test_df = pd.DataFrame(Stan_X_test, columns=X_test.columns)  # Assuming X_train is a DataFrame\n",
    "\n",
    "print(Stan_X_train_df.head())\n",
    "print(Stan_X_test_df.head())\n"
   ]
  },
  {
   "cell_type": "markdown",
   "metadata": {
    "id": "OQR-KzEBTlag"
   },
   "source": [
    "### One-Hot Encoding Dataset"
   ]
  },
  {
   "cell_type": "markdown",
   "metadata": {
    "id": "iX-HOId9ToB-"
   },
   "source": [
    "In the One-Hot Encoding Dataset, we perform One-Hot Encoding for the categorical features and then perform standardization.\n",
    "\n",
    "The (assumed) categorical predictors are:\n",
    "\n",
    "1. weekday\n",
    "2. product_ID\n",
    "3. brand_ID\n",
    "4. attribute1\n",
    "5. atrribute2\n",
    "6. attribute3\n"
   ]
  },
  {
   "cell_type": "markdown",
   "metadata": {
    "id": "EkPDop3lXgtG"
   },
   "source": [
    "#### One-Hot Encoding"
   ]
  },
  {
   "cell_type": "markdown",
   "metadata": {
    "id": "SlQ64IoKAMAZ"
   },
   "source": [
    "The train dataset and test dataset was first combined, as the One-Hot Encoding could be performed together.\n"
   ]
  },
  {
   "cell_type": "code",
   "execution_count": 9,
   "metadata": {
    "id": "7XBvCt9YALT5"
   },
   "outputs": [],
   "source": [
    "Combined = pd.concat([X_train,X_test])"
   ]
  },
  {
   "cell_type": "markdown",
   "metadata": {
    "id": "9rx_x6mnARoC"
   },
   "source": [
    "Conversion of categorical predictors to a String type to be utilised as One-Hot Encoding (OHE)"
   ]
  },
  {
   "cell_type": "code",
   "execution_count": 10,
   "metadata": {
    "colab": {
     "base_uri": "https://localhost:8080/",
     "height": 256
    },
    "id": "sheDzxExAQIs",
    "outputId": "70584831-5fd5-4c64-e4e6-b6ce98265b27"
   },
   "outputs": [
    {
     "data": {
      "text/html": [
       "<div>\n",
       "<style scoped>\n",
       "    .dataframe tbody tr th:only-of-type {\n",
       "        vertical-align: middle;\n",
       "    }\n",
       "\n",
       "    .dataframe tbody tr th {\n",
       "        vertical-align: top;\n",
       "    }\n",
       "\n",
       "    .dataframe thead th {\n",
       "        text-align: right;\n",
       "    }\n",
       "</style>\n",
       "<table border=\"1\" class=\"dataframe\">\n",
       "  <thead>\n",
       "    <tr style=\"text-align: right;\">\n",
       "      <th></th>\n",
       "      <th>attribute4</th>\n",
       "      <th>clickVolume</th>\n",
       "      <th>avgOriginalUnitPrice</th>\n",
       "      <th>avgFinalUnitPrice</th>\n",
       "      <th>ma14SalesVolume</th>\n",
       "      <th>meanAge</th>\n",
       "      <th>gender</th>\n",
       "      <th>meanEducation</th>\n",
       "      <th>maritalStatus</th>\n",
       "      <th>plus</th>\n",
       "      <th>...</th>\n",
       "      <th>attribute3_7</th>\n",
       "      <th>attribute3_8</th>\n",
       "      <th>attribute3_9</th>\n",
       "      <th>weekday_1</th>\n",
       "      <th>weekday_2</th>\n",
       "      <th>weekday_3</th>\n",
       "      <th>weekday_4</th>\n",
       "      <th>weekday_5</th>\n",
       "      <th>weekday_6</th>\n",
       "      <th>weekday_7</th>\n",
       "    </tr>\n",
       "  </thead>\n",
       "  <tbody>\n",
       "    <tr>\n",
       "      <th>0</th>\n",
       "      <td>1.561599</td>\n",
       "      <td>799.0</td>\n",
       "      <td>237.206500</td>\n",
       "      <td>186.956968</td>\n",
       "      <td>11.785714</td>\n",
       "      <td>35.498327</td>\n",
       "      <td>0.114401</td>\n",
       "      <td>3.046749</td>\n",
       "      <td>0.562923</td>\n",
       "      <td>0.206291</td>\n",
       "      <td>...</td>\n",
       "      <td>False</td>\n",
       "      <td>False</td>\n",
       "      <td>True</td>\n",
       "      <td>False</td>\n",
       "      <td>False</td>\n",
       "      <td>False</td>\n",
       "      <td>True</td>\n",
       "      <td>False</td>\n",
       "      <td>False</td>\n",
       "      <td>False</td>\n",
       "    </tr>\n",
       "    <tr>\n",
       "      <th>1</th>\n",
       "      <td>7.747685</td>\n",
       "      <td>352.0</td>\n",
       "      <td>178.540538</td>\n",
       "      <td>129.123143</td>\n",
       "      <td>25.785714</td>\n",
       "      <td>25.633478</td>\n",
       "      <td>0.000000</td>\n",
       "      <td>3.005766</td>\n",
       "      <td>0.000000</td>\n",
       "      <td>0.444095</td>\n",
       "      <td>...</td>\n",
       "      <td>False</td>\n",
       "      <td>False</td>\n",
       "      <td>False</td>\n",
       "      <td>False</td>\n",
       "      <td>False</td>\n",
       "      <td>False</td>\n",
       "      <td>False</td>\n",
       "      <td>False</td>\n",
       "      <td>False</td>\n",
       "      <td>True</td>\n",
       "    </tr>\n",
       "    <tr>\n",
       "      <th>2</th>\n",
       "      <td>3.899665</td>\n",
       "      <td>293.0</td>\n",
       "      <td>119.066221</td>\n",
       "      <td>59.136199</td>\n",
       "      <td>21.357143</td>\n",
       "      <td>32.228120</td>\n",
       "      <td>0.158911</td>\n",
       "      <td>2.935705</td>\n",
       "      <td>0.293093</td>\n",
       "      <td>0.132959</td>\n",
       "      <td>...</td>\n",
       "      <td>False</td>\n",
       "      <td>False</td>\n",
       "      <td>False</td>\n",
       "      <td>False</td>\n",
       "      <td>False</td>\n",
       "      <td>False</td>\n",
       "      <td>False</td>\n",
       "      <td>False</td>\n",
       "      <td>True</td>\n",
       "      <td>False</td>\n",
       "    </tr>\n",
       "    <tr>\n",
       "      <th>3</th>\n",
       "      <td>1.585429</td>\n",
       "      <td>537.0</td>\n",
       "      <td>139.452545</td>\n",
       "      <td>68.572100</td>\n",
       "      <td>7.285714</td>\n",
       "      <td>29.304317</td>\n",
       "      <td>0.186522</td>\n",
       "      <td>2.810752</td>\n",
       "      <td>0.242181</td>\n",
       "      <td>0.000000</td>\n",
       "      <td>...</td>\n",
       "      <td>False</td>\n",
       "      <td>False</td>\n",
       "      <td>False</td>\n",
       "      <td>False</td>\n",
       "      <td>False</td>\n",
       "      <td>False</td>\n",
       "      <td>False</td>\n",
       "      <td>True</td>\n",
       "      <td>False</td>\n",
       "      <td>False</td>\n",
       "    </tr>\n",
       "    <tr>\n",
       "      <th>4</th>\n",
       "      <td>4.623051</td>\n",
       "      <td>6668.0</td>\n",
       "      <td>298.106532</td>\n",
       "      <td>244.047761</td>\n",
       "      <td>296.214286</td>\n",
       "      <td>29.132081</td>\n",
       "      <td>0.300183</td>\n",
       "      <td>3.032527</td>\n",
       "      <td>0.391279</td>\n",
       "      <td>0.103062</td>\n",
       "      <td>...</td>\n",
       "      <td>False</td>\n",
       "      <td>False</td>\n",
       "      <td>False</td>\n",
       "      <td>False</td>\n",
       "      <td>False</td>\n",
       "      <td>False</td>\n",
       "      <td>False</td>\n",
       "      <td>True</td>\n",
       "      <td>False</td>\n",
       "      <td>False</td>\n",
       "    </tr>\n",
       "  </tbody>\n",
       "</table>\n",
       "<p>5 rows × 154 columns</p>\n",
       "</div>"
      ],
      "text/plain": [
       "   attribute4  clickVolume  avgOriginalUnitPrice  avgFinalUnitPrice  \\\n",
       "0    1.561599        799.0            237.206500         186.956968   \n",
       "1    7.747685        352.0            178.540538         129.123143   \n",
       "2    3.899665        293.0            119.066221          59.136199   \n",
       "3    1.585429        537.0            139.452545          68.572100   \n",
       "4    4.623051       6668.0            298.106532         244.047761   \n",
       "\n",
       "   ma14SalesVolume    meanAge    gender  meanEducation  maritalStatus  \\\n",
       "0        11.785714  35.498327  0.114401       3.046749       0.562923   \n",
       "1        25.785714  25.633478  0.000000       3.005766       0.000000   \n",
       "2        21.357143  32.228120  0.158911       2.935705       0.293093   \n",
       "3         7.285714  29.304317  0.186522       2.810752       0.242181   \n",
       "4       296.214286  29.132081  0.300183       3.032527       0.391279   \n",
       "\n",
       "       plus  ...  attribute3_7  attribute3_8  attribute3_9  weekday_1  \\\n",
       "0  0.206291  ...         False         False          True      False   \n",
       "1  0.444095  ...         False         False         False      False   \n",
       "2  0.132959  ...         False         False         False      False   \n",
       "3  0.000000  ...         False         False         False      False   \n",
       "4  0.103062  ...         False         False         False      False   \n",
       "\n",
       "   weekday_2  weekday_3  weekday_4  weekday_5  weekday_6  weekday_7  \n",
       "0      False      False       True      False      False      False  \n",
       "1      False      False      False      False      False       True  \n",
       "2      False      False      False      False       True      False  \n",
       "3      False      False      False       True      False      False  \n",
       "4      False      False      False       True      False      False  \n",
       "\n",
       "[5 rows x 154 columns]"
      ]
     },
     "execution_count": 10,
     "metadata": {},
     "output_type": "execute_result"
    }
   ],
   "source": [
    "Combined.weekday = Combined.weekday.astype(str)\n",
    "Combined.productID = Combined.productID.astype(str)\n",
    "Combined.brandID = Combined.brandID.astype(str)\n",
    "Combined.attribute1 = Combined.attribute1.astype(str)\n",
    "Combined.attribute2 = Combined.attribute2.astype(str)\n",
    "Combined.attribute3 = Combined.attribute3.astype(str)\n",
    "Combined=pd.get_dummies(Combined)\n",
    "Combined.head()"
   ]
  },
  {
   "cell_type": "markdown",
   "metadata": {
    "id": "TVqtjzl3AfU-"
   },
   "source": [
    "Split back to training and testing datasets"
   ]
  },
  {
   "cell_type": "code",
   "execution_count": 11,
   "metadata": {
    "colab": {
     "base_uri": "https://localhost:8080/",
     "height": 444
    },
    "id": "CtI1ZHhJAgqi",
    "outputId": "7fb76b9b-4caf-4c69-f54b-25557f2260bf"
   },
   "outputs": [
    {
     "data": {
      "text/html": [
       "<div>\n",
       "<style scoped>\n",
       "    .dataframe tbody tr th:only-of-type {\n",
       "        vertical-align: middle;\n",
       "    }\n",
       "\n",
       "    .dataframe tbody tr th {\n",
       "        vertical-align: top;\n",
       "    }\n",
       "\n",
       "    .dataframe thead th {\n",
       "        text-align: right;\n",
       "    }\n",
       "</style>\n",
       "<table border=\"1\" class=\"dataframe\">\n",
       "  <thead>\n",
       "    <tr style=\"text-align: right;\">\n",
       "      <th></th>\n",
       "      <th>attribute4</th>\n",
       "      <th>clickVolume</th>\n",
       "      <th>avgOriginalUnitPrice</th>\n",
       "      <th>avgFinalUnitPrice</th>\n",
       "      <th>ma14SalesVolume</th>\n",
       "      <th>meanAge</th>\n",
       "      <th>gender</th>\n",
       "      <th>meanEducation</th>\n",
       "      <th>maritalStatus</th>\n",
       "      <th>plus</th>\n",
       "      <th>...</th>\n",
       "      <th>attribute3_7</th>\n",
       "      <th>attribute3_8</th>\n",
       "      <th>attribute3_9</th>\n",
       "      <th>weekday_1</th>\n",
       "      <th>weekday_2</th>\n",
       "      <th>weekday_3</th>\n",
       "      <th>weekday_4</th>\n",
       "      <th>weekday_5</th>\n",
       "      <th>weekday_6</th>\n",
       "      <th>weekday_7</th>\n",
       "    </tr>\n",
       "  </thead>\n",
       "  <tbody>\n",
       "    <tr>\n",
       "      <th>0</th>\n",
       "      <td>1.561599</td>\n",
       "      <td>799.0</td>\n",
       "      <td>237.206500</td>\n",
       "      <td>186.956968</td>\n",
       "      <td>11.785714</td>\n",
       "      <td>35.498327</td>\n",
       "      <td>0.114401</td>\n",
       "      <td>3.046749</td>\n",
       "      <td>0.562923</td>\n",
       "      <td>0.206291</td>\n",
       "      <td>...</td>\n",
       "      <td>False</td>\n",
       "      <td>False</td>\n",
       "      <td>True</td>\n",
       "      <td>False</td>\n",
       "      <td>False</td>\n",
       "      <td>False</td>\n",
       "      <td>True</td>\n",
       "      <td>False</td>\n",
       "      <td>False</td>\n",
       "      <td>False</td>\n",
       "    </tr>\n",
       "    <tr>\n",
       "      <th>1</th>\n",
       "      <td>7.747685</td>\n",
       "      <td>352.0</td>\n",
       "      <td>178.540538</td>\n",
       "      <td>129.123143</td>\n",
       "      <td>25.785714</td>\n",
       "      <td>25.633478</td>\n",
       "      <td>0.000000</td>\n",
       "      <td>3.005766</td>\n",
       "      <td>0.000000</td>\n",
       "      <td>0.444095</td>\n",
       "      <td>...</td>\n",
       "      <td>False</td>\n",
       "      <td>False</td>\n",
       "      <td>False</td>\n",
       "      <td>False</td>\n",
       "      <td>False</td>\n",
       "      <td>False</td>\n",
       "      <td>False</td>\n",
       "      <td>False</td>\n",
       "      <td>False</td>\n",
       "      <td>True</td>\n",
       "    </tr>\n",
       "    <tr>\n",
       "      <th>2</th>\n",
       "      <td>3.899665</td>\n",
       "      <td>293.0</td>\n",
       "      <td>119.066221</td>\n",
       "      <td>59.136199</td>\n",
       "      <td>21.357143</td>\n",
       "      <td>32.228120</td>\n",
       "      <td>0.158911</td>\n",
       "      <td>2.935705</td>\n",
       "      <td>0.293093</td>\n",
       "      <td>0.132959</td>\n",
       "      <td>...</td>\n",
       "      <td>False</td>\n",
       "      <td>False</td>\n",
       "      <td>False</td>\n",
       "      <td>False</td>\n",
       "      <td>False</td>\n",
       "      <td>False</td>\n",
       "      <td>False</td>\n",
       "      <td>False</td>\n",
       "      <td>True</td>\n",
       "      <td>False</td>\n",
       "    </tr>\n",
       "    <tr>\n",
       "      <th>3</th>\n",
       "      <td>1.585429</td>\n",
       "      <td>537.0</td>\n",
       "      <td>139.452545</td>\n",
       "      <td>68.572100</td>\n",
       "      <td>7.285714</td>\n",
       "      <td>29.304317</td>\n",
       "      <td>0.186522</td>\n",
       "      <td>2.810752</td>\n",
       "      <td>0.242181</td>\n",
       "      <td>0.000000</td>\n",
       "      <td>...</td>\n",
       "      <td>False</td>\n",
       "      <td>False</td>\n",
       "      <td>False</td>\n",
       "      <td>False</td>\n",
       "      <td>False</td>\n",
       "      <td>False</td>\n",
       "      <td>False</td>\n",
       "      <td>True</td>\n",
       "      <td>False</td>\n",
       "      <td>False</td>\n",
       "    </tr>\n",
       "    <tr>\n",
       "      <th>4</th>\n",
       "      <td>4.623051</td>\n",
       "      <td>6668.0</td>\n",
       "      <td>298.106532</td>\n",
       "      <td>244.047761</td>\n",
       "      <td>296.214286</td>\n",
       "      <td>29.132081</td>\n",
       "      <td>0.300183</td>\n",
       "      <td>3.032527</td>\n",
       "      <td>0.391279</td>\n",
       "      <td>0.103062</td>\n",
       "      <td>...</td>\n",
       "      <td>False</td>\n",
       "      <td>False</td>\n",
       "      <td>False</td>\n",
       "      <td>False</td>\n",
       "      <td>False</td>\n",
       "      <td>False</td>\n",
       "      <td>False</td>\n",
       "      <td>True</td>\n",
       "      <td>False</td>\n",
       "      <td>False</td>\n",
       "    </tr>\n",
       "    <tr>\n",
       "      <th>...</th>\n",
       "      <td>...</td>\n",
       "      <td>...</td>\n",
       "      <td>...</td>\n",
       "      <td>...</td>\n",
       "      <td>...</td>\n",
       "      <td>...</td>\n",
       "      <td>...</td>\n",
       "      <td>...</td>\n",
       "      <td>...</td>\n",
       "      <td>...</td>\n",
       "      <td>...</td>\n",
       "      <td>...</td>\n",
       "      <td>...</td>\n",
       "      <td>...</td>\n",
       "      <td>...</td>\n",
       "      <td>...</td>\n",
       "      <td>...</td>\n",
       "      <td>...</td>\n",
       "      <td>...</td>\n",
       "      <td>...</td>\n",
       "      <td>...</td>\n",
       "    </tr>\n",
       "    <tr>\n",
       "      <th>1571</th>\n",
       "      <td>1.610909</td>\n",
       "      <td>1558.0</td>\n",
       "      <td>89.371417</td>\n",
       "      <td>41.336335</td>\n",
       "      <td>34.142857</td>\n",
       "      <td>38.176047</td>\n",
       "      <td>0.434893</td>\n",
       "      <td>2.805286</td>\n",
       "      <td>0.652032</td>\n",
       "      <td>0.678596</td>\n",
       "      <td>...</td>\n",
       "      <td>False</td>\n",
       "      <td>False</td>\n",
       "      <td>False</td>\n",
       "      <td>False</td>\n",
       "      <td>False</td>\n",
       "      <td>False</td>\n",
       "      <td>False</td>\n",
       "      <td>False</td>\n",
       "      <td>True</td>\n",
       "      <td>False</td>\n",
       "    </tr>\n",
       "    <tr>\n",
       "      <th>1572</th>\n",
       "      <td>13.657958</td>\n",
       "      <td>74.0</td>\n",
       "      <td>80.494579</td>\n",
       "      <td>59.261375</td>\n",
       "      <td>5.214286</td>\n",
       "      <td>20.134348</td>\n",
       "      <td>0.019198</td>\n",
       "      <td>2.969021</td>\n",
       "      <td>0.052638</td>\n",
       "      <td>0.065188</td>\n",
       "      <td>...</td>\n",
       "      <td>False</td>\n",
       "      <td>False</td>\n",
       "      <td>False</td>\n",
       "      <td>False</td>\n",
       "      <td>False</td>\n",
       "      <td>False</td>\n",
       "      <td>True</td>\n",
       "      <td>False</td>\n",
       "      <td>False</td>\n",
       "      <td>False</td>\n",
       "    </tr>\n",
       "    <tr>\n",
       "      <th>1573</th>\n",
       "      <td>5.449706</td>\n",
       "      <td>353.0</td>\n",
       "      <td>76.912038</td>\n",
       "      <td>48.459064</td>\n",
       "      <td>5.000000</td>\n",
       "      <td>35.180962</td>\n",
       "      <td>0.260036</td>\n",
       "      <td>2.425446</td>\n",
       "      <td>0.701358</td>\n",
       "      <td>0.190540</td>\n",
       "      <td>...</td>\n",
       "      <td>False</td>\n",
       "      <td>False</td>\n",
       "      <td>False</td>\n",
       "      <td>True</td>\n",
       "      <td>False</td>\n",
       "      <td>False</td>\n",
       "      <td>False</td>\n",
       "      <td>False</td>\n",
       "      <td>False</td>\n",
       "      <td>False</td>\n",
       "    </tr>\n",
       "    <tr>\n",
       "      <th>1574</th>\n",
       "      <td>9.496754</td>\n",
       "      <td>1740.0</td>\n",
       "      <td>69.920092</td>\n",
       "      <td>50.999694</td>\n",
       "      <td>59.857143</td>\n",
       "      <td>31.277144</td>\n",
       "      <td>0.639961</td>\n",
       "      <td>3.125656</td>\n",
       "      <td>0.678429</td>\n",
       "      <td>0.319564</td>\n",
       "      <td>...</td>\n",
       "      <td>True</td>\n",
       "      <td>False</td>\n",
       "      <td>False</td>\n",
       "      <td>False</td>\n",
       "      <td>False</td>\n",
       "      <td>False</td>\n",
       "      <td>False</td>\n",
       "      <td>False</td>\n",
       "      <td>True</td>\n",
       "      <td>False</td>\n",
       "    </tr>\n",
       "    <tr>\n",
       "      <th>1575</th>\n",
       "      <td>18.313448</td>\n",
       "      <td>703.0</td>\n",
       "      <td>189.276037</td>\n",
       "      <td>84.889386</td>\n",
       "      <td>10.500000</td>\n",
       "      <td>34.766484</td>\n",
       "      <td>0.000000</td>\n",
       "      <td>3.344549</td>\n",
       "      <td>0.824813</td>\n",
       "      <td>0.571859</td>\n",
       "      <td>...</td>\n",
       "      <td>True</td>\n",
       "      <td>False</td>\n",
       "      <td>False</td>\n",
       "      <td>False</td>\n",
       "      <td>True</td>\n",
       "      <td>False</td>\n",
       "      <td>False</td>\n",
       "      <td>False</td>\n",
       "      <td>False</td>\n",
       "      <td>False</td>\n",
       "    </tr>\n",
       "  </tbody>\n",
       "</table>\n",
       "<p>1576 rows × 154 columns</p>\n",
       "</div>"
      ],
      "text/plain": [
       "      attribute4  clickVolume  avgOriginalUnitPrice  avgFinalUnitPrice  \\\n",
       "0       1.561599        799.0            237.206500         186.956968   \n",
       "1       7.747685        352.0            178.540538         129.123143   \n",
       "2       3.899665        293.0            119.066221          59.136199   \n",
       "3       1.585429        537.0            139.452545          68.572100   \n",
       "4       4.623051       6668.0            298.106532         244.047761   \n",
       "...          ...          ...                   ...                ...   \n",
       "1571    1.610909       1558.0             89.371417          41.336335   \n",
       "1572   13.657958         74.0             80.494579          59.261375   \n",
       "1573    5.449706        353.0             76.912038          48.459064   \n",
       "1574    9.496754       1740.0             69.920092          50.999694   \n",
       "1575   18.313448        703.0            189.276037          84.889386   \n",
       "\n",
       "      ma14SalesVolume    meanAge    gender  meanEducation  maritalStatus  \\\n",
       "0           11.785714  35.498327  0.114401       3.046749       0.562923   \n",
       "1           25.785714  25.633478  0.000000       3.005766       0.000000   \n",
       "2           21.357143  32.228120  0.158911       2.935705       0.293093   \n",
       "3            7.285714  29.304317  0.186522       2.810752       0.242181   \n",
       "4          296.214286  29.132081  0.300183       3.032527       0.391279   \n",
       "...               ...        ...       ...            ...            ...   \n",
       "1571        34.142857  38.176047  0.434893       2.805286       0.652032   \n",
       "1572         5.214286  20.134348  0.019198       2.969021       0.052638   \n",
       "1573         5.000000  35.180962  0.260036       2.425446       0.701358   \n",
       "1574        59.857143  31.277144  0.639961       3.125656       0.678429   \n",
       "1575        10.500000  34.766484  0.000000       3.344549       0.824813   \n",
       "\n",
       "          plus  ...  attribute3_7  attribute3_8  attribute3_9  weekday_1  \\\n",
       "0     0.206291  ...         False         False          True      False   \n",
       "1     0.444095  ...         False         False         False      False   \n",
       "2     0.132959  ...         False         False         False      False   \n",
       "3     0.000000  ...         False         False         False      False   \n",
       "4     0.103062  ...         False         False         False      False   \n",
       "...        ...  ...           ...           ...           ...        ...   \n",
       "1571  0.678596  ...         False         False         False      False   \n",
       "1572  0.065188  ...         False         False         False      False   \n",
       "1573  0.190540  ...         False         False         False       True   \n",
       "1574  0.319564  ...          True         False         False      False   \n",
       "1575  0.571859  ...          True         False         False      False   \n",
       "\n",
       "      weekday_2  weekday_3  weekday_4  weekday_5  weekday_6  weekday_7  \n",
       "0         False      False       True      False      False      False  \n",
       "1         False      False      False      False      False       True  \n",
       "2         False      False      False      False       True      False  \n",
       "3         False      False      False       True      False      False  \n",
       "4         False      False      False       True      False      False  \n",
       "...         ...        ...        ...        ...        ...        ...  \n",
       "1571      False      False      False      False       True      False  \n",
       "1572      False      False       True      False      False      False  \n",
       "1573      False      False      False      False      False      False  \n",
       "1574      False      False      False      False       True      False  \n",
       "1575       True      False      False      False      False      False  \n",
       "\n",
       "[1576 rows x 154 columns]"
      ]
     },
     "execution_count": 11,
     "metadata": {},
     "output_type": "execute_result"
    }
   ],
   "source": [
    "transformed_X_train = Combined.iloc[:Data_train.shape[0]]\n",
    "transformed_X_train"
   ]
  },
  {
   "cell_type": "code",
   "execution_count": 12,
   "metadata": {
    "colab": {
     "base_uri": "https://localhost:8080/",
     "height": 444
    },
    "id": "ckuS8sm1Aklk",
    "outputId": "87cb5bcc-445d-474b-80fd-3c0a4b61188d"
   },
   "outputs": [
    {
     "data": {
      "text/html": [
       "<div>\n",
       "<style scoped>\n",
       "    .dataframe tbody tr th:only-of-type {\n",
       "        vertical-align: middle;\n",
       "    }\n",
       "\n",
       "    .dataframe tbody tr th {\n",
       "        vertical-align: top;\n",
       "    }\n",
       "\n",
       "    .dataframe thead th {\n",
       "        text-align: right;\n",
       "    }\n",
       "</style>\n",
       "<table border=\"1\" class=\"dataframe\">\n",
       "  <thead>\n",
       "    <tr style=\"text-align: right;\">\n",
       "      <th></th>\n",
       "      <th>attribute4</th>\n",
       "      <th>clickVolume</th>\n",
       "      <th>avgOriginalUnitPrice</th>\n",
       "      <th>avgFinalUnitPrice</th>\n",
       "      <th>ma14SalesVolume</th>\n",
       "      <th>meanAge</th>\n",
       "      <th>gender</th>\n",
       "      <th>meanEducation</th>\n",
       "      <th>maritalStatus</th>\n",
       "      <th>plus</th>\n",
       "      <th>...</th>\n",
       "      <th>attribute3_7</th>\n",
       "      <th>attribute3_8</th>\n",
       "      <th>attribute3_9</th>\n",
       "      <th>weekday_1</th>\n",
       "      <th>weekday_2</th>\n",
       "      <th>weekday_3</th>\n",
       "      <th>weekday_4</th>\n",
       "      <th>weekday_5</th>\n",
       "      <th>weekday_6</th>\n",
       "      <th>weekday_7</th>\n",
       "    </tr>\n",
       "  </thead>\n",
       "  <tbody>\n",
       "    <tr>\n",
       "      <th>0</th>\n",
       "      <td>5.670374</td>\n",
       "      <td>173.0</td>\n",
       "      <td>180.835683</td>\n",
       "      <td>165.459988</td>\n",
       "      <td>12.857143</td>\n",
       "      <td>26.960521</td>\n",
       "      <td>0.053158</td>\n",
       "      <td>2.958528</td>\n",
       "      <td>0.668194</td>\n",
       "      <td>0.148227</td>\n",
       "      <td>...</td>\n",
       "      <td>False</td>\n",
       "      <td>False</td>\n",
       "      <td>False</td>\n",
       "      <td>False</td>\n",
       "      <td>False</td>\n",
       "      <td>False</td>\n",
       "      <td>True</td>\n",
       "      <td>False</td>\n",
       "      <td>False</td>\n",
       "      <td>False</td>\n",
       "    </tr>\n",
       "    <tr>\n",
       "      <th>1</th>\n",
       "      <td>5.191429</td>\n",
       "      <td>142.0</td>\n",
       "      <td>190.802856</td>\n",
       "      <td>138.995392</td>\n",
       "      <td>2.285714</td>\n",
       "      <td>33.111475</td>\n",
       "      <td>0.317086</td>\n",
       "      <td>3.292282</td>\n",
       "      <td>0.709143</td>\n",
       "      <td>0.272464</td>\n",
       "      <td>...</td>\n",
       "      <td>False</td>\n",
       "      <td>False</td>\n",
       "      <td>True</td>\n",
       "      <td>False</td>\n",
       "      <td>False</td>\n",
       "      <td>False</td>\n",
       "      <td>False</td>\n",
       "      <td>True</td>\n",
       "      <td>False</td>\n",
       "      <td>False</td>\n",
       "    </tr>\n",
       "    <tr>\n",
       "      <th>2</th>\n",
       "      <td>2.461109</td>\n",
       "      <td>144.0</td>\n",
       "      <td>127.385574</td>\n",
       "      <td>123.286542</td>\n",
       "      <td>4.500000</td>\n",
       "      <td>30.353550</td>\n",
       "      <td>0.000000</td>\n",
       "      <td>2.668048</td>\n",
       "      <td>1.002511</td>\n",
       "      <td>0.000000</td>\n",
       "      <td>...</td>\n",
       "      <td>False</td>\n",
       "      <td>False</td>\n",
       "      <td>False</td>\n",
       "      <td>False</td>\n",
       "      <td>False</td>\n",
       "      <td>False</td>\n",
       "      <td>False</td>\n",
       "      <td>False</td>\n",
       "      <td>True</td>\n",
       "      <td>False</td>\n",
       "    </tr>\n",
       "    <tr>\n",
       "      <th>3</th>\n",
       "      <td>4.659192</td>\n",
       "      <td>220.0</td>\n",
       "      <td>240.873276</td>\n",
       "      <td>168.258175</td>\n",
       "      <td>17.500000</td>\n",
       "      <td>29.692379</td>\n",
       "      <td>0.000000</td>\n",
       "      <td>2.470400</td>\n",
       "      <td>0.424764</td>\n",
       "      <td>0.000000</td>\n",
       "      <td>...</td>\n",
       "      <td>False</td>\n",
       "      <td>False</td>\n",
       "      <td>False</td>\n",
       "      <td>False</td>\n",
       "      <td>False</td>\n",
       "      <td>False</td>\n",
       "      <td>False</td>\n",
       "      <td>False</td>\n",
       "      <td>True</td>\n",
       "      <td>False</td>\n",
       "    </tr>\n",
       "    <tr>\n",
       "      <th>4</th>\n",
       "      <td>15.554293</td>\n",
       "      <td>4079.0</td>\n",
       "      <td>85.013188</td>\n",
       "      <td>68.521885</td>\n",
       "      <td>115.785714</td>\n",
       "      <td>33.128355</td>\n",
       "      <td>0.201974</td>\n",
       "      <td>2.432218</td>\n",
       "      <td>0.592206</td>\n",
       "      <td>0.005535</td>\n",
       "      <td>...</td>\n",
       "      <td>False</td>\n",
       "      <td>False</td>\n",
       "      <td>False</td>\n",
       "      <td>False</td>\n",
       "      <td>False</td>\n",
       "      <td>False</td>\n",
       "      <td>False</td>\n",
       "      <td>False</td>\n",
       "      <td>False</td>\n",
       "      <td>True</td>\n",
       "    </tr>\n",
       "    <tr>\n",
       "      <th>...</th>\n",
       "      <td>...</td>\n",
       "      <td>...</td>\n",
       "      <td>...</td>\n",
       "      <td>...</td>\n",
       "      <td>...</td>\n",
       "      <td>...</td>\n",
       "      <td>...</td>\n",
       "      <td>...</td>\n",
       "      <td>...</td>\n",
       "      <td>...</td>\n",
       "      <td>...</td>\n",
       "      <td>...</td>\n",
       "      <td>...</td>\n",
       "      <td>...</td>\n",
       "      <td>...</td>\n",
       "      <td>...</td>\n",
       "      <td>...</td>\n",
       "      <td>...</td>\n",
       "      <td>...</td>\n",
       "      <td>...</td>\n",
       "      <td>...</td>\n",
       "    </tr>\n",
       "    <tr>\n",
       "      <th>1046</th>\n",
       "      <td>7.783232</td>\n",
       "      <td>212.0</td>\n",
       "      <td>70.289424</td>\n",
       "      <td>58.684552</td>\n",
       "      <td>5.357143</td>\n",
       "      <td>26.794008</td>\n",
       "      <td>0.558049</td>\n",
       "      <td>2.629016</td>\n",
       "      <td>0.193424</td>\n",
       "      <td>0.332677</td>\n",
       "      <td>...</td>\n",
       "      <td>False</td>\n",
       "      <td>False</td>\n",
       "      <td>False</td>\n",
       "      <td>False</td>\n",
       "      <td>False</td>\n",
       "      <td>False</td>\n",
       "      <td>False</td>\n",
       "      <td>False</td>\n",
       "      <td>True</td>\n",
       "      <td>False</td>\n",
       "    </tr>\n",
       "    <tr>\n",
       "      <th>1047</th>\n",
       "      <td>17.327509</td>\n",
       "      <td>1044.0</td>\n",
       "      <td>210.529395</td>\n",
       "      <td>174.739314</td>\n",
       "      <td>10.071429</td>\n",
       "      <td>34.052881</td>\n",
       "      <td>0.164406</td>\n",
       "      <td>3.094639</td>\n",
       "      <td>0.510198</td>\n",
       "      <td>0.274645</td>\n",
       "      <td>...</td>\n",
       "      <td>False</td>\n",
       "      <td>False</td>\n",
       "      <td>False</td>\n",
       "      <td>False</td>\n",
       "      <td>False</td>\n",
       "      <td>False</td>\n",
       "      <td>False</td>\n",
       "      <td>True</td>\n",
       "      <td>False</td>\n",
       "      <td>False</td>\n",
       "    </tr>\n",
       "    <tr>\n",
       "      <th>1048</th>\n",
       "      <td>1.200506</td>\n",
       "      <td>1040.0</td>\n",
       "      <td>235.563711</td>\n",
       "      <td>190.538695</td>\n",
       "      <td>3.571429</td>\n",
       "      <td>38.025742</td>\n",
       "      <td>0.371263</td>\n",
       "      <td>3.073274</td>\n",
       "      <td>0.813218</td>\n",
       "      <td>0.422813</td>\n",
       "      <td>...</td>\n",
       "      <td>False</td>\n",
       "      <td>False</td>\n",
       "      <td>False</td>\n",
       "      <td>False</td>\n",
       "      <td>False</td>\n",
       "      <td>False</td>\n",
       "      <td>False</td>\n",
       "      <td>True</td>\n",
       "      <td>False</td>\n",
       "      <td>False</td>\n",
       "    </tr>\n",
       "    <tr>\n",
       "      <th>1049</th>\n",
       "      <td>1.076817</td>\n",
       "      <td>324.0</td>\n",
       "      <td>239.301695</td>\n",
       "      <td>192.178675</td>\n",
       "      <td>6.428571</td>\n",
       "      <td>35.851558</td>\n",
       "      <td>0.519561</td>\n",
       "      <td>2.967437</td>\n",
       "      <td>0.739173</td>\n",
       "      <td>0.320380</td>\n",
       "      <td>...</td>\n",
       "      <td>False</td>\n",
       "      <td>False</td>\n",
       "      <td>False</td>\n",
       "      <td>False</td>\n",
       "      <td>True</td>\n",
       "      <td>False</td>\n",
       "      <td>False</td>\n",
       "      <td>False</td>\n",
       "      <td>False</td>\n",
       "      <td>False</td>\n",
       "    </tr>\n",
       "    <tr>\n",
       "      <th>1050</th>\n",
       "      <td>3.762127</td>\n",
       "      <td>598.0</td>\n",
       "      <td>80.759945</td>\n",
       "      <td>46.251621</td>\n",
       "      <td>45.214286</td>\n",
       "      <td>30.869948</td>\n",
       "      <td>0.335370</td>\n",
       "      <td>2.859076</td>\n",
       "      <td>0.764288</td>\n",
       "      <td>0.223586</td>\n",
       "      <td>...</td>\n",
       "      <td>False</td>\n",
       "      <td>True</td>\n",
       "      <td>False</td>\n",
       "      <td>False</td>\n",
       "      <td>False</td>\n",
       "      <td>False</td>\n",
       "      <td>False</td>\n",
       "      <td>False</td>\n",
       "      <td>False</td>\n",
       "      <td>True</td>\n",
       "    </tr>\n",
       "  </tbody>\n",
       "</table>\n",
       "<p>1051 rows × 154 columns</p>\n",
       "</div>"
      ],
      "text/plain": [
       "      attribute4  clickVolume  avgOriginalUnitPrice  avgFinalUnitPrice  \\\n",
       "0       5.670374        173.0            180.835683         165.459988   \n",
       "1       5.191429        142.0            190.802856         138.995392   \n",
       "2       2.461109        144.0            127.385574         123.286542   \n",
       "3       4.659192        220.0            240.873276         168.258175   \n",
       "4      15.554293       4079.0             85.013188          68.521885   \n",
       "...          ...          ...                   ...                ...   \n",
       "1046    7.783232        212.0             70.289424          58.684552   \n",
       "1047   17.327509       1044.0            210.529395         174.739314   \n",
       "1048    1.200506       1040.0            235.563711         190.538695   \n",
       "1049    1.076817        324.0            239.301695         192.178675   \n",
       "1050    3.762127        598.0             80.759945          46.251621   \n",
       "\n",
       "      ma14SalesVolume    meanAge    gender  meanEducation  maritalStatus  \\\n",
       "0           12.857143  26.960521  0.053158       2.958528       0.668194   \n",
       "1            2.285714  33.111475  0.317086       3.292282       0.709143   \n",
       "2            4.500000  30.353550  0.000000       2.668048       1.002511   \n",
       "3           17.500000  29.692379  0.000000       2.470400       0.424764   \n",
       "4          115.785714  33.128355  0.201974       2.432218       0.592206   \n",
       "...               ...        ...       ...            ...            ...   \n",
       "1046         5.357143  26.794008  0.558049       2.629016       0.193424   \n",
       "1047        10.071429  34.052881  0.164406       3.094639       0.510198   \n",
       "1048         3.571429  38.025742  0.371263       3.073274       0.813218   \n",
       "1049         6.428571  35.851558  0.519561       2.967437       0.739173   \n",
       "1050        45.214286  30.869948  0.335370       2.859076       0.764288   \n",
       "\n",
       "          plus  ...  attribute3_7  attribute3_8  attribute3_9  weekday_1  \\\n",
       "0     0.148227  ...         False         False         False      False   \n",
       "1     0.272464  ...         False         False          True      False   \n",
       "2     0.000000  ...         False         False         False      False   \n",
       "3     0.000000  ...         False         False         False      False   \n",
       "4     0.005535  ...         False         False         False      False   \n",
       "...        ...  ...           ...           ...           ...        ...   \n",
       "1046  0.332677  ...         False         False         False      False   \n",
       "1047  0.274645  ...         False         False         False      False   \n",
       "1048  0.422813  ...         False         False         False      False   \n",
       "1049  0.320380  ...         False         False         False      False   \n",
       "1050  0.223586  ...         False          True         False      False   \n",
       "\n",
       "      weekday_2  weekday_3  weekday_4  weekday_5  weekday_6  weekday_7  \n",
       "0         False      False       True      False      False      False  \n",
       "1         False      False      False       True      False      False  \n",
       "2         False      False      False      False       True      False  \n",
       "3         False      False      False      False       True      False  \n",
       "4         False      False      False      False      False       True  \n",
       "...         ...        ...        ...        ...        ...        ...  \n",
       "1046      False      False      False      False       True      False  \n",
       "1047      False      False      False       True      False      False  \n",
       "1048      False      False      False       True      False      False  \n",
       "1049       True      False      False      False      False      False  \n",
       "1050      False      False      False      False      False       True  \n",
       "\n",
       "[1051 rows x 154 columns]"
      ]
     },
     "execution_count": 12,
     "metadata": {},
     "output_type": "execute_result"
    }
   ],
   "source": [
    "transformed_X_test = Combined.iloc[Data_train.shape[0]:]\n",
    "transformed_X_test"
   ]
  },
  {
   "cell_type": "code",
   "execution_count": 22,
   "metadata": {
    "id": "28S2v2r9AmZc"
   },
   "outputs": [],
   "source": [
    "# transformed_X_train.to_csv(\"NO_Stan_train_data.csv\")\n",
    "# transformed_X_test.to_csv(\"NO_Stan_test_data.csv\")"
   ]
  },
  {
   "cell_type": "markdown",
   "metadata": {
    "id": "fIwYAJusAvR_"
   },
   "source": [
    "#### Standardization"
   ]
  },
  {
   "cell_type": "code",
   "execution_count": null,
   "metadata": {
    "colab": {
     "base_uri": "https://localhost:8080/"
    },
    "id": "KQQEI11FAwN1",
    "outputId": "847d4c75-f25c-4082-e025-1429d4925e2e"
   },
   "outputs": [],
   "source": [
    "ss=StandardScaler()\n",
    "ss.fit(transformed_X_train)\n",
    "\n",
    "OHE_X_train=pd.DataFrame(ss.transform(transformed_X_train),columns=transformed_X_train.columns)\n",
    "OHE_y_train = y_train\n",
    "\n",
    "OHE_X_train.shape"
   ]
  },
  {
   "cell_type": "code",
   "execution_count": null,
   "metadata": {
    "colab": {
     "base_uri": "https://localhost:8080/"
    },
    "id": "ec5nbITYAzeM",
    "outputId": "81082ee2-1336-45d9-e3e3-347705f5551a"
   },
   "outputs": [],
   "source": [
    "OHE_X_test=pd.DataFrame(ss.transform(transformed_X_test),columns=transformed_X_test.columns)\n",
    "OHE_X_test.shape"
   ]
  },
  {
   "cell_type": "code",
   "execution_count": 25,
   "metadata": {
    "id": "GKDwtCaKA1GG"
   },
   "outputs": [],
   "source": [
    "# OHE_X_train.to_csv(\"OHE_train_data.csv\")\n",
    "# OHE_X_test.to_csv(\"OHE_test_data.csv\")"
   ]
  },
  {
   "cell_type": "markdown",
   "metadata": {
    "id": "p86bKk-2CXTe"
   },
   "source": [
    "CSV files of the transformed datasets are cleaned and saved, which can be used for running through the various algorithms."
   ]
  },
  {
   "cell_type": "markdown",
   "metadata": {
    "id": "VUyyAwmaVYcs"
   },
   "source": [
    "### Create Log(Sales) response variable"
   ]
  },
  {
   "cell_type": "markdown",
   "metadata": {
    "id": "t6-xWaTOVhZT"
   },
   "source": [
    "An alternative approach to using Sales as the response variable was explored by using Log(Sales)."
   ]
  },
  {
   "cell_type": "markdown",
   "metadata": {
    "id": "6CfvOp7EV1k5"
   },
   "source": [
    "#### Plot of distribution of Sales"
   ]
  },
  {
   "cell_type": "code",
   "execution_count": null,
   "metadata": {
    "colab": {
     "base_uri": "https://localhost:8080/",
     "height": 1000
    },
    "id": "eVJYIIQN_1gz",
    "outputId": "e7c61f91-0e03-4a61-d6d6-2a68efc23a80"
   },
   "outputs": [],
   "source": [
    "plt.figure(figsize=(12,12))\n",
    "plt.hist(y_train,bins=150,histtype='stepfilled',color='blue')\n",
    "\n",
    "plt.ylabel(\"Frequency\")\n",
    "plt.xlabel(\"Sales\")\n",
    "plt.show()"
   ]
  },
  {
   "cell_type": "code",
   "execution_count": null,
   "metadata": {
    "colab": {
     "base_uri": "https://localhost:8080/",
     "height": 430
    },
    "id": "lrc0Gfyb_5AA",
    "outputId": "7b4905c0-3389-42fc-c4dc-0657e433f9f8"
   },
   "outputs": [],
   "source": [
    "plt.boxplot(y_train)\n",
    "plt.show()"
   ]
  },
  {
   "cell_type": "code",
   "execution_count": null,
   "metadata": {
    "colab": {
     "base_uri": "https://localhost:8080/"
    },
    "id": "Pd8bhFSv_7uL",
    "outputId": "84038532-018a-4377-e4cd-517d18e77780"
   },
   "outputs": [],
   "source": [
    "print('mean of y_train: ',y_train.mean())\n",
    "print('max of y_train: ',y_train.max())\n"
   ]
  },
  {
   "cell_type": "markdown",
   "metadata": {
    "id": "6oSQkrzF_8c4"
   },
   "source": [
    "Observation: Since there are an extreme range of Sales values, log(Sales) as a response variable may be more suitable to approximately conform to near normality."
   ]
  },
  {
   "cell_type": "markdown",
   "metadata": {
    "id": "D8x85tPuAAHP"
   },
   "source": [
    "#### Plot of distribution of Log(Sales)"
   ]
  },
  {
   "cell_type": "code",
   "execution_count": null,
   "metadata": {
    "colab": {
     "base_uri": "https://localhost:8080/",
     "height": 1000
    },
    "id": "BzFnM_Oy_-Az",
    "outputId": "af94e3c9-0038-44cd-be86-5c14bb54c785"
   },
   "outputs": [],
   "source": [
    "plt.figure(figsize=(12,12))\n",
    "plt.hist(np.log(y_train),bins=150,histtype='stepfilled',color='blue')\n",
    "\n",
    "plt.ylabel(\"Frequency\")\n",
    "plt.xlabel(\"log(Sales)\")\n",
    "plt.show()"
   ]
  },
  {
   "cell_type": "code",
   "execution_count": null,
   "metadata": {
    "colab": {
     "base_uri": "https://localhost:8080/",
     "height": 430
    },
    "id": "XNU9SVFUAF1F",
    "outputId": "57c2d106-fc5d-44d8-8131-328e58c5e747"
   },
   "outputs": [],
   "source": [
    "plt.boxplot(np.log(y_train))\n",
    "plt.show()"
   ]
  },
  {
   "cell_type": "code",
   "execution_count": null,
   "metadata": {
    "colab": {
     "base_uri": "https://localhost:8080/"
    },
    "id": "6XcYsXei9APL",
    "outputId": "04b68db5-aad5-497d-fcf8-971f94f8c6bc"
   },
   "outputs": [],
   "source": [
    "print('mean of y_train: ',np.log(y_train).mean())\n",
    "print('max of y_train: ',np.log(y_train).max())\n"
   ]
  },
  {
   "cell_type": "markdown",
   "metadata": {
    "id": "2BKPk-N_WbcN"
   },
   "source": [
    "#### Creating alternate y_train_log dataframe"
   ]
  },
  {
   "cell_type": "markdown",
   "metadata": {
    "id": "l2jIOINVAH8k"
   },
   "source": [
    "Log(Sales) will be used as an alternate response variable."
   ]
  },
  {
   "cell_type": "code",
   "execution_count": 32,
   "metadata": {
    "id": "We9aLfQsAHsF"
   },
   "outputs": [],
   "source": [
    "y_train_log = np.log(y_train)"
   ]
  },
  {
   "cell_type": "markdown",
   "metadata": {
    "id": "5qBYkpUmc4wF"
   },
   "source": [
    "## Testing various models for Sales prediction"
   ]
  },
  {
   "cell_type": "markdown",
   "metadata": {
    "id": "ULphJg-SzLTI"
   },
   "source": [
    "### Random Forests"
   ]
  },
  {
   "cell_type": "markdown",
   "metadata": {
    "id": "Aq6AqCslrTvI"
   },
   "source": [
    "#### Grid Search"
   ]
  },
  {
   "cell_type": "code",
   "execution_count": 33,
   "metadata": {
    "id": "QzLsEWvD3fmW"
   },
   "outputs": [],
   "source": [
    "# # Run grid search\n",
    "\n",
    "# from sklearn.model_selection import GridSearchCV\n",
    "# import numpy as np\n",
    "\n",
    "# num_features = OHE_X_train.shape[1]\n",
    "# print(\"Number of features:\", num_features)\n",
    "\n",
    "\n",
    "# # Define the parameter grid to search\n",
    "# param_grid = {\n",
    "#     'n_estimators': [1000, 1500],  # Number of trees in the forest\n",
    "#     'ccp_alpha': [0.02, 0.04, 0.06],  # Learning rate\n",
    "#     'max_depth': [3, 4],  # Maximum depth of the individual trees\n",
    "#     'min_samples_split': [2, 3],  # Minimum samples required to split an internal node\n",
    "#     'min_samples_leaf': [1, 2],  # Minimum samples required to be at a leaf node\n",
    "#     'max_features': ['sqrt', 'log2', int(num_features/3)]\n",
    "# }\n",
    "\n",
    "# # Create the RandomBoostingRegressor\n",
    "# rf_regressor = RandomForestRegressor()\n",
    "\n",
    "# # Create the GridSearchCV object with cross-validation\n",
    "# grid_search = GridSearchCV(estimator=rf_regressor, param_grid=param_grid, cv=10, scoring='neg_mean_squared_error', n_jobs=-1)\n",
    "\n",
    "# # Perform the grid search on your data\n",
    "# # X_train and y_train are your training data\n",
    "# grid_search.fit(OHE_X_train, OHE_y_train)\n",
    "\n",
    "# # Print the best hyperparameters and corresponding score\n",
    "# print(\"Best Hyperparameters: \", grid_search.best_params_)\n",
    "# print(\"Best Score: \", grid_search.best_score_)"
   ]
  },
  {
   "cell_type": "code",
   "execution_count": null,
   "metadata": {
    "colab": {
     "base_uri": "https://localhost:8080/"
    },
    "id": "YNOQIqPNrc2H",
    "outputId": "45c96e51-7a1e-4000-d5ae-6591c04a524b"
   },
   "outputs": [],
   "source": [
    "kf = KFold(n_splits=10)\n",
    "sum = 0\n",
    "for train_index, test_index in kf.split(OHE_X_train):\n",
    "    XX_train = OHE_X_train.iloc[train_index]\n",
    "    YY_train = OHE_y_train.iloc[train_index]\n",
    "\n",
    "    XX_test = OHE_X_train.iloc[test_index]\n",
    "    YY_test = OHE_y_train.iloc[test_index]\n",
    "    rf = RandomForestRegressor(n_estimators=1500, ccp_alpha=0.03, max_features=51, min_samples_leaf=1, min_samples_split=2)\n",
    "    rf.fit(XX_train,YY_train)\n",
    "    sum += MSE(rf.predict(XX_test),YY_test)\n",
    "print(\"Random Forest Best Parameters MSE= \", sum/10)\n",
    "print()"
   ]
  },
  {
   "cell_type": "markdown",
   "metadata": {
    "id": "jADc618NrdY-"
   },
   "source": [
    "#### Best Results"
   ]
  },
  {
   "cell_type": "markdown",
   "metadata": {
    "id": "2xyoSTEFfWtC"
   },
   "source": [
    "### SKLearn Gradient Boosting Regressor"
   ]
  },
  {
   "cell_type": "markdown",
   "metadata": {
    "id": "drfWWQ-SizjF"
   },
   "source": [
    "#### Grid Search"
   ]
  },
  {
   "cell_type": "code",
   "execution_count": 35,
   "metadata": {
    "id": "WYaFvKlFi1cc"
   },
   "outputs": [],
   "source": [
    "# from sklearn.model_selection import GridSearchCV\n",
    "# import numpy as np\n",
    "\n",
    "# # Define the parameter grid to search\n",
    "# param_grid = {\n",
    "#     'n_estimators': [25, 50, 75, 100, 150, 200, 250, 300],  # Number of trees in the forest\n",
    "#     'learning_rate': [0.01, 0.02, 0.1, 0.2, 0.4],  # Learning rate\n",
    "#     'max_depth': [3, 4, 5, 6, 7, 8, 9],  # Maximum depth of the individual trees\n",
    "#     'min_samples_split': [10, 15, 20],  # Minimum samples required to split an internal node\n",
    "#     'min_samples_leaf': [2, 4, 6, 8],  # Minimum samples required to be at a leaf node\n",
    "#     'max_features': ['sqrt', 'log2']\n",
    "# }\n",
    "\n",
    "# # Create the GradientBoostingRegressor\n",
    "# gb_regressor = GradientBoostingRegressor()\n",
    "\n",
    "# # Create the GridSearchCV object with cross-validation\n",
    "# grid_search = GridSearchCV(estimator=gb_regressor, param_grid=param_grid, cv=10, scoring='neg_mean_squared_error', n_jobs=-1)\n",
    "\n",
    "# # Perform the grid search on your data\n",
    "# # X_train and y_train are your training data\n",
    "# grid_search.fit(OHE_X_train, OHE_y_train)\n",
    "\n",
    "# # Print the best hyperparameters and corresponding score\n",
    "# print(\"Best Hyperparameters: \", grid_search.best_params_)\n",
    "# print(\"Best Score: \", grid_search.best_score_)"
   ]
  },
  {
   "cell_type": "markdown",
   "metadata": {
    "id": "RS_3S87DiyDU"
   },
   "source": [
    "#### Best results"
   ]
  },
  {
   "cell_type": "code",
   "execution_count": null,
   "metadata": {
    "colab": {
     "base_uri": "https://localhost:8080/"
    },
    "id": "2jj8r70ofPmD",
    "outputId": "1b06ba31-959d-4e9b-c10c-14416797c756"
   },
   "outputs": [],
   "source": [
    "from  sklearn.ensemble import GradientBoostingRegressor\n",
    "\n",
    "kf = KFold(n_splits=10)\n",
    "sum = 0\n",
    "for train_index, test_index in kf.split(OHE_X_train):\n",
    "    XX_train = OHE_X_train.iloc[train_index]\n",
    "    YY_train = OHE_y_train.iloc[train_index]\n",
    "\n",
    "    XX_test = OHE_X_train.iloc[test_index]\n",
    "    YY_test = OHE_y_train.iloc[test_index]\n",
    "    gbc = GradientBoostingRegressor(learning_rate=0.2, n_estimators=100, max_depth=3, min_samples_leaf=2, min_samples_split=10)\n",
    "    gbc.fit(XX_train,YY_train)\n",
    "    sum += MSE(gbc.predict(XX_test),YY_test)\n",
    "print(\"MSE= \", sum/10)\n",
    "print()"
   ]
  },
  {
   "cell_type": "markdown",
   "metadata": {
    "id": "TJ7kosWqmmJ7"
   },
   "source": [
    "### CatBoost Regressor"
   ]
  },
  {
   "cell_type": "markdown",
   "metadata": {
    "id": "zRofjKubmots"
   },
   "source": [
    "#### Grid Search"
   ]
  },
  {
   "cell_type": "code",
   "execution_count": 37,
   "metadata": {
    "id": "NAsz57DZmq6r"
   },
   "outputs": [],
   "source": [
    "# from catboost import CatBoostRegressor, Pool, metrics, cv\n",
    "# import numpy as np\n",
    "\n",
    "# # Define the parameter grid to search\n",
    "# param_grid = {\n",
    "#     'n_estimators': [100, 200, 300], # Number of trees in the forest\n",
    "#     'learning_rate': [0.01, 0.1, 0.2], # Learning rate\n",
    "#     'max_depth': [3, 4, 5], # Maximum depth of the individual trees\n",
    "#     'min_child_samples': [2, 5, 10], # Minimum samples required to split an internal node\n",
    "#     'l2_leaf_reg': [1, 3, 5, 7, 9], # Minimum samples required to be at a leaf node\n",
    "#     }\n",
    "\n",
    "# # Create the CatBoostingRegressor\n",
    "# cb_regressor = CatBoostRegressor()\n",
    "\n",
    "# # Create the GridSearchCV object with cross-validation\n",
    "# grid_search_result = cb_regressor.grid_search(param_grid, X=OHE_X_train, y=OHE_y_train, cv=10)\n",
    "# grid_search_result"
   ]
  },
  {
   "cell_type": "markdown",
   "metadata": {
    "id": "W0NRLYi-pFPp"
   },
   "source": [
    "#### Best Results"
   ]
  },
  {
   "cell_type": "code",
   "execution_count": null,
   "metadata": {
    "colab": {
     "base_uri": "https://localhost:8080/"
    },
    "id": "QNAJJHaxpHgK",
    "outputId": "ac384ed4-38c5-4cb3-c996-6f10495a3f08"
   },
   "outputs": [],
   "source": [
    "from catboost import CatBoostRegressor\n",
    "\n",
    "kf = KFold(n_splits=10)\n",
    "sum = 0\n",
    "for train_index, test_index in kf.split(OHE_X_train):\n",
    "    XX_train = OHE_X_train.iloc[train_index]\n",
    "    YY_train = OHE_y_train.iloc[train_index]\n",
    "\n",
    "    XX_test = OHE_X_train.iloc[test_index]\n",
    "    YY_test = OHE_y_train.iloc[test_index]\n",
    "    cbr = CatBoostRegressor(min_data_in_leaf = 2, depth = 3, l2_leaf_reg = 3, iterations = 200, learning_rate = 0.2)\n",
    "    cbr.fit(XX_train,YY_train)\n",
    "\n",
    "    cbr_predictions = cbr.predict(XX_test)\n",
    "    cbr_predictions = np.maximum(cbr_predictions, 0)\n",
    "\n",
    "    sum += MSE(cbr_predictions,YY_test)\n",
    "print(\"MSE= \", sum/10)\n",
    "print()"
   ]
  },
  {
   "cell_type": "markdown",
   "metadata": {
    "id": "EafH9X6-paoQ"
   },
   "source": [
    "### XGBoost Regressor"
   ]
  },
  {
   "cell_type": "code",
   "execution_count": 39,
   "metadata": {
    "id": "aFBPNWpMpaof"
   },
   "outputs": [],
   "source": [
    "#### Grid Search"
   ]
  },
  {
   "cell_type": "code",
   "execution_count": 40,
   "metadata": {
    "id": "1T3PIl8mpaof"
   },
   "outputs": [],
   "source": [
    "# from xgboost import XGBRegressor\n",
    "# from sklearn.model_selection import GridSearchCV\n",
    "\n",
    "# param_grid={\"learning_rate\": (0.05, 0.10, 0.15),\n",
    "#             \"max_depth\": [ 3, 4, 5, 6, 8],\n",
    "#             \"min_child_weight\": [ 1, 3, 5, 7],\n",
    "#             \"gamma\":[ 0.0, 0.1, 0.2],\n",
    "#             \"colsample_bytree\":[ 0.3, 0.4],\n",
    "#             }\n",
    "\n",
    "# grid_search = GridSearchCV(\n",
    "#             estimator=XGBRegressor(),\n",
    "#             param_grid=param_grid,\n",
    "#             cv=10, scoring='neg_mean_squared_error', n_jobs=-1)\n",
    "\n",
    "# grid_search.fit(OHE_X_train, OHE_y_train)\n",
    "\n",
    "# print(\"Best Hyperparameters: \", grid_search.best_params_)\n",
    "# print(\"Best Score: \", grid_search.best_score_)"
   ]
  },
  {
   "cell_type": "markdown",
   "metadata": {
    "id": "ZGw3ASvmpaog"
   },
   "source": [
    "#### Best Results"
   ]
  },
  {
   "cell_type": "code",
   "execution_count": null,
   "metadata": {
    "id": "gTGM-IOmpaog"
   },
   "outputs": [],
   "source": [
    "from xgboost import XGBRegressor\n",
    "\n",
    "kf = KFold(n_splits=10)\n",
    "sum = 0\n",
    "for train_index, test_index in kf.split(OHE_X_train):\n",
    "    XX_train = OHE_X_train.iloc[train_index]\n",
    "    YY_train = OHE_y_train.iloc[train_index]\n",
    "\n",
    "    XX_test = OHE_X_train.iloc[test_index]\n",
    "    YY_test = OHE_y_train.iloc[test_index]\n",
    "    xgr = XGBRegressor(colsample_bytree=0.4, gamma=0.2, learning_rate=0.15, max_depth=4, min_child_weight=1)\n",
    "    xgr.fit(XX_train,YY_train)\n",
    "    sum += MSE(xgr.predict(XX_test),YY_test)\n",
    "print(\"MSE= \", sum/10)\n",
    "print()"
   ]
  },
  {
   "cell_type": "markdown",
   "metadata": {
    "id": "hNgKznZ-N6_i"
   },
   "source": [
    "### Linear Regression"
   ]
  },
  {
   "cell_type": "markdown",
   "metadata": {
    "id": "UbAr4NqhH_jQ"
   },
   "source": [
    "#### Lasso"
   ]
  },
  {
   "cell_type": "code",
   "execution_count": null,
   "metadata": {
    "colab": {
     "base_uri": "https://localhost:8080/"
    },
    "id": "ugU1EcCwIQnO",
    "outputId": "6ef5c100-26c7-4761-b3f0-930fe2e23a1d"
   },
   "outputs": [],
   "source": [
    "from sklearn.linear_model import Lasso\n",
    "\n",
    "kf = KFold(n_splits=10)\n",
    "alphas = [0.01,0.1,1,5,10,50,100]\n",
    "for alpha in alphas:\n",
    "    sum = 0\n",
    "    for train_index, test_index in kf.split(OHE_X_train):\n",
    "        XX_train = OHE_X_train.iloc[train_index]\n",
    "        YY_train = OHE_y_train.iloc[train_index]\n",
    "\n",
    "        XX_test = OHE_X_train.iloc[test_index]\n",
    "        YY_test = OHE_y_train.iloc[test_index]\n",
    "\n",
    "        lasso=Lasso(alpha=alpha)\n",
    "        lasso.fit(XX_train, YY_train)\n",
    "        sum += MSE(lasso.predict(XX_test),YY_test)\n",
    "    print(\"Alpha: \", alpha, \" - MSE= \", sum/10)\n",
    "    print()"
   ]
  },
  {
   "cell_type": "markdown",
   "metadata": {
    "id": "jHTCilSS95Fr"
   },
   "source": [
    "##### Best Results\n",
    "\n",
    "Parameters: Alpha:  5\n",
    "\n",
    "MSE =  1412.8959793459783"
   ]
  },
  {
   "cell_type": "markdown",
   "metadata": {
    "id": "9jRU-YegMi2H"
   },
   "source": [
    "#### Ridge"
   ]
  },
  {
   "cell_type": "code",
   "execution_count": null,
   "metadata": {
    "colab": {
     "base_uri": "https://localhost:8080/"
    },
    "id": "BopKHYZRMoH9",
    "outputId": "3ecdfb63-ed98-4f7e-f092-c3ae13c804b3"
   },
   "outputs": [],
   "source": [
    "from sklearn.linear_model import Ridge\n",
    "\n",
    "kf = KFold(n_splits=10)\n",
    "alphas = [0.001, 0.01, 0.1, 1, 10, 100, 1000]\n",
    "for alpha in alphas:\n",
    "    sum = 0\n",
    "    for train_index, test_index in kf.split(OHE_X_train):\n",
    "        XX_train = OHE_X_train.iloc[train_index]\n",
    "        YY_train = OHE_y_train.iloc[train_index]\n",
    "\n",
    "        XX_test = OHE_X_train.iloc[test_index]\n",
    "        YY_test = OHE_y_train.iloc[test_index]\n",
    "\n",
    "        ridge=Ridge(alpha=alpha)\n",
    "        ridge.fit(XX_train, YY_train)\n",
    "        sum += MSE(ridge.predict(XX_test),YY_test)\n",
    "    print(\"Alpha: \", alpha, \" - MSE= \", sum/10)\n",
    "    print()"
   ]
  },
  {
   "cell_type": "markdown",
   "metadata": {
    "id": "lrO1r2zr-GmZ"
   },
   "source": [
    "##### Best Results\n",
    "\n",
    "Parameters: Alpha:  100\n",
    "\n",
    "MSE =  1366.20383362699"
   ]
  },
  {
   "cell_type": "markdown",
   "metadata": {
    "id": "iWMqEzjJXKel"
   },
   "source": [
    "### SVM (Best model)"
   ]
  },
  {
   "cell_type": "markdown",
   "metadata": {
    "id": "LmmvoFCuXg7J"
   },
   "source": [
    "#### Grid Search"
   ]
  },
  {
   "cell_type": "code",
   "execution_count": 44,
   "metadata": {
    "id": "AbqpK6G4vo06"
   },
   "outputs": [],
   "source": [
    "# svm_model = svm.SVR()\n",
    "\n",
    "# param_grid = {\n",
    "#     'C' : [0.1, 1, 10, 100, 1000],\n",
    "#     'kernel': ['linear', 'rbf'],\n",
    "#     'gamma': ['scale', 'auto']\n",
    "# }\n",
    "# grid_search = GridSearchCV(svm_model, param_grid=param_grid, scoring='neg_mean_squared_error', n_jobs = -1, cv=10, return_train_score=True)\n",
    "# grid_search.fit(Stan_X_train_df, Stan_y_train_df)\n",
    "# res = grid_search.cv_results_['mean_test_score'][grid_search.best_index_]\n",
    "\n",
    "# print (grid_search.best_params_)\n",
    "# print (res)"
   ]
  },
  {
   "cell_type": "markdown",
   "metadata": {
    "id": "h3ce-lBZu1cV"
   },
   "source": [
    "As the GridSearch with SVM has high time complexity, the results are as follows:\n",
    "\n",
    "Best parameter for the linear svm model is {'C': 1000, 'gamma': 'auto', 'kernel': 'rbf'}\n",
    " corresponding MSE for the given parameters is -779.1463478155191"
   ]
  },
  {
   "cell_type": "code",
   "execution_count": 45,
   "metadata": {
    "id": "aWEbdp7NYcFD"
   },
   "outputs": [],
   "source": [
    "# svm_model = svm.SVR()\n",
    "\n",
    "# # Define the parameter grid for GridSearchCV\n",
    "# param_grid = {\n",
    "#     'C' : [0.1, 1, 10, 100, 1000],\n",
    "#     'kernel': ['poly', 'rbf'],\n",
    "#     'degree':[2, 3, 4],  # other degree is omitted for now due to time comp\n",
    "#     'gamma': ['scale', 'auto']\n",
    "# }\n",
    "\n",
    "# # k-fold cross-validation\n",
    "# num_splits = 10\n",
    "# kf = KFold(n_splits=num_splits, shuffle=True, random_state=42)\n",
    "\n",
    "# # Initialize GridSearchCV\n",
    "# grid_search = GridSearchCV(svm_model, param_grid, scoring='neg_mean_squared_error', n_jobs = -1, cv=kf, return_train_score=True)  # 10-fold cross-validation\n",
    "\n",
    "# # Perform grid search with k-fold cross-validation to find the best hyperparameters\n",
    "# grid_search.fit(Stan_X_train_df, Stan_y_train_df)\n",
    "# mse = grid_search.cv_results_['mean_test_score'][grid_search.best_index_]\n",
    "\n",
    "\n",
    "# # Print the best hyperparameters and corresponding accuracy score\n",
    "# print (f' Best parameter for the linear svm model is {grid_search.best_params_}')\n",
    "# print (f' corresponding MSE for the given parameters is {mse}')"
   ]
  },
  {
   "cell_type": "markdown",
   "metadata": {
    "id": "UAGAk7dmvPGM"
   },
   "source": [
    "As the GridSearch with SVM has high time complexity, the results are as follows:\n",
    "\n",
    "Best parameter for the linear svm model is {'C': 1000, 'gamma': 'auto', 'kernel': 'rbf'}\n",
    " corresponding MSE for the given parameters is -779.1463478155191"
   ]
  },
  {
   "cell_type": "markdown",
   "metadata": {
    "id": "t1fNv4E0XRm1"
   },
   "source": [
    "#### Best results\n"
   ]
  },
  {
   "cell_type": "code",
   "execution_count": null,
   "metadata": {
    "colab": {
     "base_uri": "https://localhost:8080/"
    },
    "id": "Wi9tLJSFVC_d",
    "outputId": "884ea37c-da2a-4356-f3e0-056ca9e1f9f3"
   },
   "outputs": [],
   "source": [
    "kf = KFold(n_splits=10, shuffle=True, random_state=42)\n",
    "total_mse = 0\n",
    "\n",
    "for train_index, test_index in kf.split(Stan_X_train_df):\n",
    "    XX_train, XX_test = Stan_X_train_df.iloc[train_index], Stan_X_train_df.iloc[test_index]\n",
    "    YY_train, YY_test = Stan_y_train_df.iloc[train_index]['sales'], Stan_y_train_df.iloc[test_index]['sales']\n",
    "\n",
    "    svm_model = SVR(C=1000, gamma='auto', kernel='rbf')\n",
    "    svm_model.fit(XX_train, YY_train)\n",
    "\n",
    "    svm_predictions = svm_model.predict(XX_test)\n",
    "    svm_predictions = np.maximum(svm_predictions, 0)\n",
    "\n",
    "    mse = MSE(svm_predictions, YY_test)\n",
    "    total_mse += mse\n",
    "\n",
    "average_mse = total_mse / 10\n",
    "print(\"Average MSE:\", average_mse)"
   ]
  },
  {
   "cell_type": "code",
   "execution_count": 22,
   "metadata": {
    "colab": {
     "base_uri": "https://localhost:8080/"
    },
    "id": "5sdB_kcgd64V",
    "outputId": "30269bef-1be7-4241-c074-2cf0192c038c"
   },
   "outputs": [
    {
     "name": "stdout",
     "output_type": "stream",
     "text": [
      "Average MSE: 1369.5926750742092\n"
     ]
    }
   ],
   "source": [
    "kf = KFold(n_splits=10, shuffle=True)\n",
    "total_mse = 0\n",
    "\n",
    "for train_index, test_index in kf.split(OHE_X_train):\n",
    "    XX_train = OHE_X_train.iloc[train_index]\n",
    "    YY_train = OHE_y_train.iloc[train_index]\n",
    "\n",
    "    XX_test = OHE_X_train.iloc[test_index]\n",
    "    YY_test = OHE_y_train.iloc[test_index]\n",
    "\n",
    "    svm_model = SVR(C=1000, gamma='auto', kernel='rbf')\n",
    "    svm_model.fit(XX_train, YY_train)\n",
    "\n",
    "    svm_predictions = svm_model.predict(XX_test)\n",
    "    svm_predictions = np.maximum(svm_predictions, 0)\n",
    "\n",
    "    mse = MSE(svm_predictions, YY_test)\n",
    "    total_mse += mse\n",
    "\n",
    "average_mse = total_mse / 10\n",
    "print(\"Average MSE:\", average_mse)"
   ]
  },
  {
   "cell_type": "markdown",
   "metadata": {},
   "source": [
    "We attempted to reduce the MSE by only using a subset of the predictors. The result was quite a substantial improvement in MSE. The predictors that provided the best MSE are ['clickVolume', 'avgFinalUnitPrice', 'ma14SalesVolume', 'attribute1', 'attribute2', 'meanUserLevel']."
   ]
  },
  {
   "cell_type": "code",
   "execution_count": 23,
   "metadata": {},
   "outputs": [],
   "source": [
    "chosen_column = ['clickVolume', 'avgFinalUnitPrice', 'ma14SalesVolume', 'attribute1', 'attribute2', 'meanUserLevel']\n",
    "Stan_X_train_df_filtered = Stan_X_train_df[chosen_column]\n",
    "Stan_X_test_df_filtered = Stan_X_test_df[chosen_column]"
   ]
  },
  {
   "cell_type": "code",
   "execution_count": null,
   "metadata": {},
   "outputs": [],
   "source": [
    "kf = KFold(n_splits=10, shuffle=True, random_state=42)\n",
    "total_mse = 0\n",
    "\n",
    "for train_index, test_index in kf.split(Stan_X_train_df):\n",
    "    XX_train, XX_test = Stan_X_train_df_filtered.iloc[train_index], Stan_X_train_df_filtered.iloc[test_index]\n",
    "    YY_train, YY_test = Stan_y_train_df.iloc[train_index]['sales'], Stan_y_train_df.iloc[test_index]['sales']\n",
    "\n",
    "    svm_model = SVR(C=1000, gamma='auto', kernel='rbf')\n",
    "    svm_model.fit(XX_train, YY_train)\n",
    "\n",
    "    svm_predictions = svm_model.predict(XX_test)\n",
    "    svm_predictions = np.maximum(svm_predictions, 0)\n",
    "\n",
    "    mse = MSE(svm_predictions, YY_test)\n",
    "    total_mse += mse\n",
    "\n",
    "average_mse = total_mse / 10\n",
    "print(\"Average MSE:\", average_mse)"
   ]
  },
  {
   "cell_type": "markdown",
   "metadata": {
    "id": "a036t67FLoE4"
   },
   "source": [
    "## Sales prediction"
   ]
  },
  {
   "cell_type": "markdown",
   "metadata": {
    "id": "epbA9KVwLrx8"
   },
   "source": [
    "For our sales prediction, we are using the SVM model because it provided us with the lowest mean squared error in our testing. The same hyperparameters are used as during our testing and the same subset of predictors that provided the lowest MSE are used. The Stan_X processed dataset is used as it provided better performance for the SVM model."
   ]
  },
  {
   "cell_type": "code",
   "execution_count": null,
   "metadata": {
    "colab": {
     "base_uri": "https://localhost:8080/",
     "height": 261
    },
    "id": "ZdPUIai_Ltjd",
    "outputId": "8d2f5e23-c86f-4179-8843-266ed5af2115"
   },
   "outputs": [],
   "source": [
    "Data_test_w_prediction = Data_test.copy()\n",
    "\n",
    "svm_model = SVR(C=1000, gamma='auto', kernel='rbf')\n",
    "\n",
    "svm_model.fit(Stan_X_train_df_filtered, Stan_y_train_df)\n",
    "\n",
    "svm_predictions = svm_model.predict(Stan_X_test_df_filtered)\n",
    "svm_predictions = np.maximum(svm_predictions, 0)\n",
    "\n",
    "Data_test_w_prediction['sales'] = np.round(svm_predictions)\n",
    "\n",
    "Data_test_w_prediction.head()"
   ]
  },
  {
   "cell_type": "markdown",
   "metadata": {
    "id": "vfGtl3STmBPU"
   },
   "source": [
    "## Inventory decision"
   ]
  },
  {
   "cell_type": "markdown",
   "metadata": {
    "id": "___rueF5LmeF"
   },
   "source": [
    "For our inventory decision, we first decided to find out how the error between our prediction and the actual sales for the training set was distributed. Then we could utilize the optimal inventory decision formula for that distribution. We plotted the cumulative distribution function for our error, as well as for an estimate of the best fitting Normal, Exponential and Uniform Distribution curves.  "
   ]
  },
  {
   "cell_type": "code",
   "execution_count": null,
   "metadata": {
    "colab": {
     "base_uri": "https://localhost:8080/",
     "height": 472
    },
    "id": "29BcytnA9OJk",
    "outputId": "72cabfa9-559c-426f-9086-5d38bf4f1a83"
   },
   "outputs": [],
   "source": [
    "# Calculate the error between our predictions and actual sales for the training set\n",
    "error_data = (Stan_y_train_df['sales']-svm_model.predict(Stan_X_train_df_filtered))\n",
    "\n",
    "# Sort the data for plotting the empirical CDF\n",
    "sorted_error_data = np.sort(error_data)\n",
    "ecdf = np.arange(1, len(sorted_error_data) + 1) / len(sorted_error_data)\n",
    "\n",
    "# Plot the empirical CDF\n",
    "plt.step(sorted_error_data, ecdf, label='Empirical Error CDF', color='g', where='post')\n",
    "\n",
    "# Plot the best-fitting normal distribution CDF\n",
    "mu, std = norm.fit(error_data)\n",
    "x = np.linspace(min(error_data), max(error_data), 100)\n",
    "plt.plot(x, norm.cdf(x, mu, std), 'k', label='Best Fit Normal CDF')\n",
    "\n",
    "# Plot the best-fitting exponential distribution CDF\n",
    "lambda_est = 1/np.mean(error_data)\n",
    "plt.plot(x, expon.cdf(x, scale=1/lambda_est), 'r', label='Best Fit Exponential CDF')\n",
    "\n",
    "# Plot the best-fitting uniform distribution CDF\n",
    "min_val, max_val = np.min(error_data), np.max(error_data)\n",
    "uniform_params = min_val, max_val - min_val\n",
    "plt.plot(x, uniform.cdf(x, *uniform_params), 'b', label='Best Fit Uniform CDF')\n",
    "\n",
    "plt.title('Cumulative Distribution Between Prediction and Actual Sales')\n",
    "plt.xlabel('Error (between prediction and actual sales)')\n",
    "plt.ylabel('Cumulative Probability')\n",
    "plt.legend()\n",
    "plt.show()"
   ]
  },
  {
   "cell_type": "markdown",
   "metadata": {
    "id": "4iDEWWHaId5K"
   },
   "source": [
    "From the plot, it was clear that either a Normal Distribution or Exponential Distribution best fit our error distribution. We decided to explore both approaches further."
   ]
  },
  {
   "cell_type": "code",
   "execution_count": null,
   "metadata": {
    "colab": {
     "base_uri": "https://localhost:8080/"
    },
    "id": "fIYy2OWD5R-S",
    "outputId": "553d18e8-a1f9-43aa-c933-117eb9dd445c"
   },
   "outputs": [],
   "source": [
    "# Calculating Overage and Underage Cost\n",
    "\n",
    "Price=20\n",
    "Cost=12\n",
    "Salvage=8\n",
    "Over=Cost - Salvage\n",
    "Under=Price - Cost\n",
    "Over, Under"
   ]
  },
  {
   "cell_type": "markdown",
   "metadata": {
    "id": "Mer-UFyq5CDt"
   },
   "source": [
    "### Assuming Sales is normally distributed"
   ]
  },
  {
   "cell_type": "markdown",
   "metadata": {
    "id": "l_UT5qSm5sUr"
   },
   "source": [
    "The first approach is to assume the Sales is normally distributed and estimate the standard deviation based on the samples. For our optimal inventory decision, we used the sales prediction for each row as the mu, and estimated the standard deviation of the sales based on the training dataset."
   ]
  },
  {
   "cell_type": "code",
   "execution_count": null,
   "metadata": {
    "colab": {
     "base_uri": "https://localhost:8080/",
     "height": 206
    },
    "id": "pauLb02Zlvw3",
    "outputId": "da11f46b-eee7-4581-9769-3ca364541fd9"
   },
   "outputs": [],
   "source": [
    "# Calculate an estimate of standard deviation based on training dataset\n",
    "\n",
    "inventory_decision_test = Stan_y_train_df.copy()\n",
    "\n",
    "ndata = len(Stan_X_train_df_filtered)\n",
    "nfeatures = len(Stan_X_train_df_filtered.columns)\n",
    "\n",
    "std_est = np.sqrt(np.sum((svm_model.predict(Stan_X_train_df_filtered)-Stan_y_train_df['sales'])**2)/(ndata-nfeatures-1))\n",
    "\n",
    "# Apply optimal decision formula (normal distribution assumption) to training dataset, with sales prediction taken as mu\n",
    "\n",
    "inventory_decision_test['normal_distribution_inventory'] = np.ceil(sct.norm.ppf(Under/(Under+Over))*std_est + svm_model.predict(Stan_X_train_df_filtered))\n",
    "inventory_decision_test.head()"
   ]
  },
  {
   "cell_type": "markdown",
   "metadata": {
    "id": "sU7gU7ANmJ2k"
   },
   "source": [
    "### Assuming Sales is exponentially distributed"
   ]
  },
  {
   "cell_type": "markdown",
   "metadata": {
    "id": "VOEElypbmPGW"
   },
   "source": [
    "The second approach is to assume the Sales is exponentially distributed and estimate the lambda based on the samples. Our estimate of the lambda is 1/mean(residual_error) from the training dataset. Using this we calculate the y* and add it to our sales prediction. We also subtract the mean of the residual error from this amount, giving our inventory prediction."
   ]
  },
  {
   "cell_type": "code",
   "execution_count": null,
   "metadata": {
    "colab": {
     "base_uri": "https://localhost:8080/",
     "height": 206
    },
    "id": "kO_cqF3jmJa0",
    "outputId": "ed72b57c-60b8-4be0-c67e-5deee9daa856"
   },
   "outputs": [],
   "source": [
    "# Calculate an estimate of lambda based on training dataset\n",
    "\n",
    "error_data = (Stan_y_train_df['sales']-svm_model.predict(Stan_X_train_df_filtered))\n",
    "lambda_est = 1/np.mean(error_data)\n",
    "\n",
    "\n",
    "# Apply optimal decision formula (exponential distribution assumption) to training dataset\n",
    "\n",
    "y_star = (-1/lambda_est)*np.log(1-(Under/(Under+Over)))\n",
    "\n",
    "inventory_decision_test['exponential_distribution_inventory'] = np.ceil(y_star - np.mean(error_data) + svm_model.predict(Stan_X_train_df_filtered))\n",
    "inventory_decision_test.head()\n"
   ]
  },
  {
   "cell_type": "markdown",
   "metadata": {
    "id": "xs2qFgvroYiO"
   },
   "source": [
    "### Evaluating profit from both approaches"
   ]
  },
  {
   "cell_type": "markdown",
   "metadata": {
    "id": "QQshgXYdoePD"
   },
   "source": [
    "The profit achieved from using both approaches on the training dataset is calculated. The actual sales tell us the demand."
   ]
  },
  {
   "cell_type": "code",
   "execution_count": null,
   "metadata": {
    "colab": {
     "base_uri": "https://localhost:8080/"
    },
    "id": "bLATbewroqJr",
    "outputId": "19e173e6-9af4-43d1-9207-214721f499d4"
   },
   "outputs": [],
   "source": [
    "# Test profit on training dataset\n",
    "def profit(sales,inv):\n",
    "    return (Price-Salvage)*np.minimum(sales,inv)-(Cost-Salvage)*inv\n",
    "\n",
    "inventory_decision_test['normal_distribution_profit'] = profit(inventory_decision_test['sales'], inventory_decision_test['normal_distribution_inventory'])\n",
    "inventory_decision_test['exponential_distribution_profit'] = profit(inventory_decision_test['sales'], inventory_decision_test['exponential_distribution_inventory'])\n",
    "\n",
    "print(f\"Profit from Normal Distribution approach: {np.sum(inventory_decision_test['normal_distribution_profit'])}\")\n",
    "print(f\"Profit from Exponential Distribution approach: {np.sum(inventory_decision_test['exponential_distribution_profit'])}\")"
   ]
  },
  {
   "cell_type": "markdown",
   "metadata": {
    "id": "E-6_T_SHpsdJ"
   },
   "source": [
    "Seeing as how the exponential distribution approach managed to give us a greater overall profit, we decided to use this approach for the test dataset inventory prediction."
   ]
  },
  {
   "cell_type": "markdown",
   "metadata": {
    "id": "o-sIpeB8p8aG"
   },
   "source": [
    "### Exponential Distribution approach for test datset"
   ]
  },
  {
   "cell_type": "code",
   "execution_count": 37,
   "metadata": {
    "colab": {
     "base_uri": "https://localhost:8080/",
     "height": 256
    },
    "id": "3emfmiRF5HuY",
    "outputId": "e0f3a707-78b2-4fec-e8cc-cf5d38e5f7f3"
   },
   "outputs": [
    {
     "data": {
      "text/html": [
       "<div>\n",
       "<style scoped>\n",
       "    .dataframe tbody tr th:only-of-type {\n",
       "        vertical-align: middle;\n",
       "    }\n",
       "\n",
       "    .dataframe tbody tr th {\n",
       "        vertical-align: top;\n",
       "    }\n",
       "\n",
       "    .dataframe thead th {\n",
       "        text-align: right;\n",
       "    }\n",
       "</style>\n",
       "<table border=\"1\" class=\"dataframe\">\n",
       "  <thead>\n",
       "    <tr style=\"text-align: right;\">\n",
       "      <th></th>\n",
       "      <th>productID</th>\n",
       "      <th>brandID</th>\n",
       "      <th>attribute1</th>\n",
       "      <th>attribute2</th>\n",
       "      <th>attribute3</th>\n",
       "      <th>attribute4</th>\n",
       "      <th>clickVolume</th>\n",
       "      <th>avgOriginalUnitPrice</th>\n",
       "      <th>avgFinalUnitPrice</th>\n",
       "      <th>ma14SalesVolume</th>\n",
       "      <th>...</th>\n",
       "      <th>meanAge</th>\n",
       "      <th>gender</th>\n",
       "      <th>meanEducation</th>\n",
       "      <th>maritalStatus</th>\n",
       "      <th>plus</th>\n",
       "      <th>meanPurchasePower</th>\n",
       "      <th>meanUserLevel</th>\n",
       "      <th>meanCityLevel</th>\n",
       "      <th>sales</th>\n",
       "      <th>inventory</th>\n",
       "    </tr>\n",
       "  </thead>\n",
       "  <tbody>\n",
       "    <tr>\n",
       "      <th>0</th>\n",
       "      <td>77</td>\n",
       "      <td>38</td>\n",
       "      <td>3.0</td>\n",
       "      <td>100.0</td>\n",
       "      <td>2</td>\n",
       "      <td>5.670374</td>\n",
       "      <td>173.0</td>\n",
       "      <td>180.835683</td>\n",
       "      <td>165.459988</td>\n",
       "      <td>12.857143</td>\n",
       "      <td>...</td>\n",
       "      <td>26.960521</td>\n",
       "      <td>0.053158</td>\n",
       "      <td>2.958528</td>\n",
       "      <td>0.668194</td>\n",
       "      <td>0.148227</td>\n",
       "      <td>2.347953</td>\n",
       "      <td>2.638135</td>\n",
       "      <td>1.997034</td>\n",
       "      <td>5.0</td>\n",
       "      <td>6.0</td>\n",
       "    </tr>\n",
       "    <tr>\n",
       "      <th>1</th>\n",
       "      <td>47</td>\n",
       "      <td>30</td>\n",
       "      <td>4.0</td>\n",
       "      <td>100.0</td>\n",
       "      <td>9</td>\n",
       "      <td>5.191429</td>\n",
       "      <td>142.0</td>\n",
       "      <td>190.802856</td>\n",
       "      <td>138.995392</td>\n",
       "      <td>2.285714</td>\n",
       "      <td>...</td>\n",
       "      <td>33.111475</td>\n",
       "      <td>0.317086</td>\n",
       "      <td>3.292282</td>\n",
       "      <td>0.709143</td>\n",
       "      <td>0.272464</td>\n",
       "      <td>2.409795</td>\n",
       "      <td>3.973464</td>\n",
       "      <td>1.385002</td>\n",
       "      <td>1.0</td>\n",
       "      <td>2.0</td>\n",
       "    </tr>\n",
       "    <tr>\n",
       "      <th>2</th>\n",
       "      <td>33</td>\n",
       "      <td>25</td>\n",
       "      <td>3.0</td>\n",
       "      <td>100.0</td>\n",
       "      <td>1</td>\n",
       "      <td>2.461109</td>\n",
       "      <td>144.0</td>\n",
       "      <td>127.385574</td>\n",
       "      <td>123.286542</td>\n",
       "      <td>4.500000</td>\n",
       "      <td>...</td>\n",
       "      <td>30.353550</td>\n",
       "      <td>0.000000</td>\n",
       "      <td>2.668048</td>\n",
       "      <td>1.002511</td>\n",
       "      <td>0.000000</td>\n",
       "      <td>1.955541</td>\n",
       "      <td>2.937542</td>\n",
       "      <td>2.369596</td>\n",
       "      <td>3.0</td>\n",
       "      <td>4.0</td>\n",
       "    </tr>\n",
       "    <tr>\n",
       "      <th>3</th>\n",
       "      <td>68</td>\n",
       "      <td>28</td>\n",
       "      <td>3.0</td>\n",
       "      <td>100.0</td>\n",
       "      <td>2</td>\n",
       "      <td>4.659192</td>\n",
       "      <td>220.0</td>\n",
       "      <td>240.873276</td>\n",
       "      <td>168.258175</td>\n",
       "      <td>17.500000</td>\n",
       "      <td>...</td>\n",
       "      <td>29.692379</td>\n",
       "      <td>0.000000</td>\n",
       "      <td>2.470400</td>\n",
       "      <td>0.424764</td>\n",
       "      <td>0.000000</td>\n",
       "      <td>1.932938</td>\n",
       "      <td>2.480643</td>\n",
       "      <td>2.505191</td>\n",
       "      <td>6.0</td>\n",
       "      <td>7.0</td>\n",
       "    </tr>\n",
       "    <tr>\n",
       "      <th>4</th>\n",
       "      <td>65</td>\n",
       "      <td>16</td>\n",
       "      <td>3.0</td>\n",
       "      <td>90.0</td>\n",
       "      <td>2</td>\n",
       "      <td>15.554293</td>\n",
       "      <td>4079.0</td>\n",
       "      <td>85.013188</td>\n",
       "      <td>68.521885</td>\n",
       "      <td>115.785714</td>\n",
       "      <td>...</td>\n",
       "      <td>33.128355</td>\n",
       "      <td>0.201974</td>\n",
       "      <td>2.432218</td>\n",
       "      <td>0.592206</td>\n",
       "      <td>0.005535</td>\n",
       "      <td>2.428117</td>\n",
       "      <td>1.792081</td>\n",
       "      <td>2.669685</td>\n",
       "      <td>100.0</td>\n",
       "      <td>101.0</td>\n",
       "    </tr>\n",
       "  </tbody>\n",
       "</table>\n",
       "<p>5 rows × 21 columns</p>\n",
       "</div>"
      ],
      "text/plain": [
       "   productID  brandID  attribute1  attribute2  attribute3  attribute4  \\\n",
       "0         77       38         3.0       100.0           2    5.670374   \n",
       "1         47       30         4.0       100.0           9    5.191429   \n",
       "2         33       25         3.0       100.0           1    2.461109   \n",
       "3         68       28         3.0       100.0           2    4.659192   \n",
       "4         65       16         3.0        90.0           2   15.554293   \n",
       "\n",
       "   clickVolume  avgOriginalUnitPrice  avgFinalUnitPrice  ma14SalesVolume  ...  \\\n",
       "0        173.0            180.835683         165.459988        12.857143  ...   \n",
       "1        142.0            190.802856         138.995392         2.285714  ...   \n",
       "2        144.0            127.385574         123.286542         4.500000  ...   \n",
       "3        220.0            240.873276         168.258175        17.500000  ...   \n",
       "4       4079.0             85.013188          68.521885       115.785714  ...   \n",
       "\n",
       "     meanAge    gender  meanEducation  maritalStatus      plus  \\\n",
       "0  26.960521  0.053158       2.958528       0.668194  0.148227   \n",
       "1  33.111475  0.317086       3.292282       0.709143  0.272464   \n",
       "2  30.353550  0.000000       2.668048       1.002511  0.000000   \n",
       "3  29.692379  0.000000       2.470400       0.424764  0.000000   \n",
       "4  33.128355  0.201974       2.432218       0.592206  0.005535   \n",
       "\n",
       "   meanPurchasePower  meanUserLevel  meanCityLevel  sales  inventory  \n",
       "0           2.347953       2.638135       1.997034    5.0        6.0  \n",
       "1           2.409795       3.973464       1.385002    1.0        2.0  \n",
       "2           1.955541       2.937542       2.369596    3.0        4.0  \n",
       "3           1.932938       2.480643       2.505191    6.0        7.0  \n",
       "4           2.428117       1.792081       2.669685  100.0      101.0  \n",
       "\n",
       "[5 rows x 21 columns]"
      ]
     },
     "execution_count": 37,
     "metadata": {},
     "output_type": "execute_result"
    }
   ],
   "source": [
    "# Calculate an estimate of lambda based on training dataset\n",
    "\n",
    "error_data = (Stan_y_train_df['sales']-svm_model.predict(Stan_X_train_df_filtered))\n",
    "lambda_est = 1/np.mean(error_data)\n",
    "\n",
    "# Apply optimal decision formula (exponential distribution assumption) to training dataset\n",
    "\n",
    "y_star = (-1/lambda_est)*np.log(1-(Under/(Under+Over)))\n",
    "\n",
    "Data_test_w_prediction['inventory'] = np.ceil(y_star - np.mean(error_data) + Data_test_w_prediction['sales'])\n",
    "Data_test_w_prediction.head()"
   ]
  },
  {
   "cell_type": "markdown",
   "metadata": {
    "id": "tkVoJOTmQMk9"
   },
   "source": [
    "## Create output csv file of predictions"
   ]
  },
  {
   "cell_type": "code",
   "execution_count": 38,
   "metadata": {
    "id": "Oezo-ZGLQWGA"
   },
   "outputs": [],
   "source": [
    "# Create output csv file with name group09.csv\n",
    "\n",
    "Data_test_w_prediction.to_csv('group09.csv', index=True)"
   ]
  }
 ],
 "metadata": {
  "colab": {
   "collapsed_sections": [
    "0iBrb8ycKi_r",
    "oNUmoxLUL2ZD",
    "YXYudevZDy6X",
    "wxg4EHZj_qyn",
    "M3FFnFlcGtix",
    "8sX9WSLKC7uE",
    "VUyyAwmaVYcs",
    "ULphJg-SzLTI",
    "Aq6AqCslrTvI",
    "jADc618NrdY-",
    "2xyoSTEFfWtC",
    "TJ7kosWqmmJ7",
    "EafH9X6-paoQ",
    "hNgKznZ-N6_i",
    "iWMqEzjJXKel"
   ],
   "provenance": [],
   "toc_visible": true
  },
  "kernelspec": {
   "display_name": "Python 3 (ipykernel)",
   "language": "python",
   "name": "python3"
  },
  "language_info": {
   "codemirror_mode": {
    "name": "ipython",
    "version": 3
   },
   "file_extension": ".py",
   "mimetype": "text/x-python",
   "name": "python",
   "nbconvert_exporter": "python",
   "pygments_lexer": "ipython3",
   "version": "3.11.4"
  }
 },
 "nbformat": 4,
 "nbformat_minor": 1
}
